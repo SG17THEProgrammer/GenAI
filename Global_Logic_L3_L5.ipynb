{
  "cells": [
    {
      "cell_type": "markdown",
      "metadata": {
        "id": "Bu5STvr26e__"
      },
      "source": [
        "**Reshape the 1-D array of shape (1, n) to 2-D array of shape (N, M) here M should be equal to the n/N there for N should be factor of n. **"
      ]
    },
    {
      "cell_type": "code",
      "execution_count": 7,
      "metadata": {
        "id": "64f4qL8o5-xF"
      },
      "outputs": [
        {
          "name": "stdout",
          "output_type": "stream",
          "text": [
            "Array : [ 1  2  3  4  5  6  7  8  9 10 11 12 13 14 15 16]\n",
            "First Reshaped Array : \n",
            "[[ 1  2  3  4]\n",
            " [ 5  6  7  8]\n",
            " [ 9 10 11 12]\n",
            " [13 14 15 16]]\n",
            "Second Reshaped Array : \n",
            "[[ 1  2  3  4  5  6  7  8]\n",
            " [ 9 10 11 12 13 14 15 16]]\n"
          ]
        }
      ],
      "source": [
        "# importing numpy\n",
        "import numpy as np\n",
        "\n",
        "# creating a numpy array\n",
        "array = np.array([1, 2, 3, 4, 5, 6, 7, 8, 9, 10, 11, 12, 13, 14, 15, 16])\n",
        "\n",
        "# printing array\n",
        "print(\"Array : \" + str(array))\n",
        "\n",
        "# length of array\n",
        "n = array.size\n",
        "\n",
        "# N-D array N dimension\n",
        "N = 4\n",
        "\n",
        "# calculating M\n",
        "M = n//N\n",
        "\n",
        "# reshaping numpy array\n",
        "# converting it to 2-D from 1-D array\n",
        "reshaped1 = array.reshape((N, M))\n",
        "\n",
        "# printing reshaped array\n",
        "print(\"First Reshaped Array : \")\n",
        "print(reshaped1)\n",
        "\n",
        "# creating another reshaped array\n",
        "reshaped2 = np.reshape(array, (2, 8))\n",
        "\n",
        "# printing reshaped array\n",
        "print(\"Second Reshaped Array : \")\n",
        "print(reshaped2)\n"
      ]
    },
    {
      "cell_type": "markdown",
      "metadata": {
        "id": "NxM1wX_a61EK"
      },
      "source": [
        "**Reshaping : 1-D to 3-D **\n",
        "In this we will see how we can reshape a 1-D array to 3-D dimension array. A 3-D array is the 1-D array of 2-D arrays"
      ]
    },
    {
      "cell_type": "code",
      "execution_count": 8,
      "metadata": {
        "id": "fM8Q2pHM6mPd"
      },
      "outputs": [
        {
          "name": "stdout",
          "output_type": "stream",
          "text": [
            "Array : [ 1  2  3  4  5  6  7  8  9 10 11 12 13 14 15 16]\n",
            "Reshaped 3-D Array : \n",
            "[[[ 1  2  3  4]\n",
            "  [ 5  6  7  8]]\n",
            "\n",
            " [[ 9 10 11 12]\n",
            "  [13 14 15 16]]]\n"
          ]
        }
      ],
      "source": [
        "# importing numpy\n",
        "import numpy as np\n",
        "\n",
        "# creating a numpy array\n",
        "array = np.array([1, 2, 3, 4, 5, 6, 7, 8, 9, 10, 11, 12, 13, 14, 15, 16])\n",
        "\n",
        "# printing array\n",
        "print(\"Array : \" + str(array))\n",
        "\n",
        "\n",
        "# reshaping numpy array\n",
        "# converting it to 3-D from 1-D array\n",
        "reshaped = array.reshape((2, 2, 4))\n",
        "\n",
        "# printing reshaped array\n",
        "print(\"Reshaped 3-D Array : \")\n",
        "print(reshaped)\n"
      ]
    },
    {
      "cell_type": "markdown",
      "metadata": {
        "id": "iwofTJTy69d9"
      },
      "source": [
        "**Reshaping N-D to 1-D array **\n",
        "In this example we will see how we can reshape a 2-D or 3-D array to form a 1-D array. We can also use reshape(-1) to do this, here -1 is the unknown dimension."
      ]
    },
    {
      "cell_type": "code",
      "execution_count": 9,
      "metadata": {
        "id": "-TUxdrLj7Lej"
      },
      "outputs": [
        {
          "name": "stdout",
          "output_type": "stream",
          "text": [
            " 2-D Array : \n",
            "[[1 2 3]\n",
            " [4 5 6]\n",
            " [7 8 9]]\n",
            "Reshaped 1-D Array : \n",
            "[1 2 3 4 5 6 7 8 9]\n"
          ]
        }
      ],
      "source": [
        "# importing numpy\n",
        "import numpy as np\n",
        "\n",
        "# creating a numpy array\n",
        "array = np.array([[1, 2, 3],\n",
        "\t\t\t\t[4, 5, 6],\n",
        "\t\t\t\t[7, 8, 9]])\n",
        "\n",
        "# printing array\n",
        "print(\" 2-D Array : \")\n",
        "print(array)\n",
        "\n",
        "\n",
        "# reshaping numpy array\n",
        "# converting it to 1-D from 2-D array\n",
        "reshaped = array.reshape((9))\n",
        "\n",
        "# or we can use unknown dimension\n",
        "# reshaped = array.reshape((-1))\n",
        "\n",
        "# printing reshaped array\n",
        "print(\"Reshaped 1-D Array : \")\n",
        "print(reshaped)\n"
      ]
    },
    {
      "cell_type": "markdown",
      "metadata": {
        "id": "51QZgn9L7c2c"
      },
      "source": [
        "\n",
        "**Reshaping using unknown dimension **\n",
        "We can reshape a array although we don’t know all the new dimensions by using -1 as one of the dimension, but we should know all the other dimension to use unknown dimension\n"
      ]
    },
    {
      "cell_type": "code",
      "execution_count": 10,
      "metadata": {
        "id": "pg4gqVZO7are"
      },
      "outputs": [
        {
          "name": "stdout",
          "output_type": "stream",
          "text": [
            "Array : [ 1  2  3  4  5  6  7  8  9 10 11 12 13 14 15 16]\n",
            "First Reshaped Array : \n",
            "[[[ 1  2  3  4]\n",
            "  [ 5  6  7  8]]\n",
            "\n",
            " [[ 9 10 11 12]\n",
            "  [13 14 15 16]]]\n",
            "Second Reshaped Array : \n",
            "[[ 1  2  3  4]\n",
            " [ 5  6  7  8]\n",
            " [ 9 10 11 12]\n",
            " [13 14 15 16]]\n"
          ]
        }
      ],
      "source": [
        "# importing numpy\n",
        "import numpy as np\n",
        "\n",
        "# creating a numpy array\n",
        "array = np.array([1, 2, 3, 4, 5, 6, 7, 8, 9, 10, 11, 12, 13, 14, 15, 16])\n",
        "\n",
        "# printing array\n",
        "print(\"Array : \" + str(array))\n",
        "\n",
        "\n",
        "# reshaping numpy array\n",
        "# converting it to 3-D from 1-D array\n",
        "reshaped1 = array.reshape((2, 2, -1))\n",
        "\n",
        "# printing reshaped array\n",
        "print(\"First Reshaped Array : \")\n",
        "print(reshaped1)\n",
        "\n",
        "\n",
        "# converting it to 2-D array\n",
        "reshaped2 = array.reshape((4, -1))\n",
        "\n",
        "# printing reshaped array\n",
        "print(\"Second Reshaped Array : \")\n",
        "print(reshaped2)\n"
      ]
    },
    {
      "cell_type": "markdown",
      "metadata": {
        "id": "LUfUgeV87tju"
      },
      "source": [
        "**Basic Slicing and Advanced Indexing in NumPy**\n",
        "Indexing can be done in NumPy by using an array as an index.\n",
        "\n",
        "Numpy arrays can be indexed with other arrays or any other sequence with the exception of tuples. The last element is indexed by -1 second last by -2 and so on."
      ]
    },
    {
      "cell_type": "code",
      "execution_count": 11,
      "metadata": {
        "colab": {
          "base_uri": "https://localhost:8080/"
        },
        "id": "NNXSf3QK7vwi",
        "outputId": "e6b93642-2b6d-4ba7-f420-be3b195de76d"
      },
      "outputs": [
        {
          "name": "stdout",
          "output_type": "stream",
          "text": [
            "\n",
            " A sequential array with a negative step: \n",
            " [10  8  6  4  2]\n",
            "\n",
            " Elements at these indices are:\n",
            " [4 8 6]\n"
          ]
        }
      ],
      "source": [
        "import numpy as np\n",
        "# Create a sequence of integers from 10 to 1 with a step of -2\n",
        "a = np.arange(10, 1, -2)\n",
        "print(\"\\n A sequential array with a negative step: \\n\",a)\n",
        "# Indexes are specified inside the np.array method.\n",
        "newarr = a[np.array([3, 1, 2 ])]\n",
        "print(\"\\n Elements at these indices are:\\n\",newarr)\n"
      ]
    },
    {
      "cell_type": "markdown",
      "metadata": {
        "id": "7oLxP2jm8fHu"
      },
      "source": [
        "**Basic Slicing and indexing**\n",
        "Basic slicing and indexing is used to access a specific element or range of elements from a NumPy array.\n",
        "\n",
        "Basic slicing and indexing only return the view of the array.\n",
        "\n",
        "Consider the syntax x[obj] where “x” is the array and “obj” is the index. The slice object is the index in the case of basic slicing.\n",
        "\n",
        "Basic slicing occurs when obj is :\n",
        "\n",
        "A slice object that is of the form start: stop: step\n",
        "\n",
        "An integer\n",
        "Or a tuple of slice objects and integers"
      ]
    },
    {
      "cell_type": "code",
      "execution_count": 12,
      "metadata": {
        "colab": {
          "base_uri": "https://localhost:8080/"
        },
        "id": "QWcajw7a8ZJ-",
        "outputId": "fce7e1af-de25-47a7-d805-d44711148417"
      },
      "outputs": [
        {
          "name": "stdout",
          "output_type": "stream",
          "text": [
            "\n",
            " Array is:\n",
            "  [ 0  1  2  3  4  5  6  7  8  9 10 11 12 13 14 15 16 17 18 19]\n",
            "\n",
            " a[15]= 15\n",
            "\n",
            " a[-8:17:1] =  [12 13 14 15 16]\n",
            "\n",
            " a[10:] =  [10 11 12 13 14 15 16 17 18 19]\n"
          ]
        }
      ],
      "source": [
        "import numpy as np\n",
        "# Arrange elements from 0 to 19\n",
        "a = np.arange(20)\n",
        "print(\"\\n Array is:\\n \",a)\n",
        "print(\"\\n a[15]=\",a[15])\n",
        "# a[start:stop:step]\n",
        "print(\"\\n a[-8:17:1] = \",a[-8:17:1])\n",
        "print(\"\\n a[10:] = \",a[10:])\n"
      ]
    },
    {
      "cell_type": "markdown",
      "metadata": {
        "id": "0a5zp81v-PRE"
      },
      "source": [
        "***Boolean array indexing***"
      ]
    },
    {
      "cell_type": "code",
      "execution_count": 13,
      "metadata": {
        "colab": {
          "base_uri": "https://localhost:8080/"
        },
        "id": "Uo0tpgSo99_b",
        "outputId": "af399247-13ca-4caf-c002-189ecdffa3df"
      },
      "outputs": [
        {
          "name": "stdout",
          "output_type": "stream",
          "text": [
            "[ 80 100]\n"
          ]
        }
      ],
      "source": [
        "# You may wish to select numbers greater than 50\n",
        "import numpy as np\n",
        "\n",
        "a = np.array([10, 40, 80, 50, 100])\n",
        "print(a[a>50])\n"
      ]
    },
    {
      "cell_type": "code",
      "execution_count": 14,
      "metadata": {
        "id": "jNqyFxHB_K0Z"
      },
      "outputs": [
        {
          "name": "stdout",
          "output_type": "stream",
          "text": [
            "[[ 5  5]\n",
            " [16  4]]\n"
          ]
        }
      ],
      "source": [
        "#Example 2: Using boolean indexing on NumPy array to find numbers whose sum row is 10\n",
        "# You may wish to select those elements whose\n",
        "# sum of row is a multiple of 10.\n",
        "import numpy as np\n",
        "\n",
        "b = np.array([[5, 5],[4, 5],[16, 4]])\n",
        "sumrow = b.sum(-1)\n",
        "print(b[sumrow%10==0])\n"
      ]
    },
    {
      "cell_type": "markdown",
      "metadata": {
        "id": "1O2boPrg_qD5"
      },
      "source": [
        "**NumPy Array Broadcasting**\n",
        "The term broadcasting refers to the ability of NumPy to treat arrays with different dimensions during arithmetic operations. This process involves certain rules that allow the smaller array to be ‘broadcast’ across the larger one, ensuring that they have compatible shapes for these operations."
      ]
    },
    {
      "cell_type": "code",
      "execution_count": 15,
      "metadata": {
        "collapsed": true,
        "id": "7uwQgzmJ_cCu"
      },
      "outputs": [
        {
          "name": "stdout",
          "output_type": "stream",
          "text": [
            "[450 350   0  30]\n"
          ]
        }
      ],
      "source": [
        "#Broadcasting provides a means of vectorizing array operations, therefore eliminating the need for Python loops.\n",
        "import numpy as np\n",
        "\n",
        "a = np.array([5, 7, 3, 1])\n",
        "b = np.array([90, 50, 0, 30])\n",
        "\n",
        "# array are compatible because of same Dimension\n",
        "c = a * b\n",
        "print(c)\n",
        "\n"
      ]
    },
    {
      "cell_type": "code",
      "execution_count": 16,
      "metadata": {
        "id": "wPM2IfHADlVF"
      },
      "outputs": [
        {
          "ename": "TypeError",
          "evalue": "'numpy.ndarray' object is not callable",
          "output_type": "error",
          "traceback": [
            "\u001b[1;31m---------------------------------------------------------------------------\u001b[0m",
            "\u001b[1;31mTypeError\u001b[0m                                 Traceback (most recent call last)",
            "Cell \u001b[1;32mIn[16], line 1\u001b[0m\n\u001b[1;32m----> 1\u001b[0m macros \u001b[38;5;241m=\u001b[39m \u001b[43marray\u001b[49m\u001b[43m(\u001b[49m\u001b[43m[\u001b[49m\n\u001b[0;32m      2\u001b[0m \u001b[43m[\u001b[49m\u001b[38;5;241;43m0.8\u001b[39;49m\u001b[43m,\u001b[49m\u001b[43m \u001b[49m\u001b[38;5;241;43m2.9\u001b[39;49m\u001b[43m,\u001b[49m\u001b[43m \u001b[49m\u001b[38;5;241;43m3.9\u001b[39;49m\u001b[43m]\u001b[49m\u001b[43m,\u001b[49m\n\u001b[0;32m      3\u001b[0m \u001b[43m[\u001b[49m\u001b[38;5;241;43m52.4\u001b[39;49m\u001b[43m,\u001b[49m\u001b[43m \u001b[49m\u001b[38;5;241;43m23.6\u001b[39;49m\u001b[43m,\u001b[49m\u001b[43m \u001b[49m\u001b[38;5;241;43m36.5\u001b[39;49m\u001b[43m]\u001b[49m\u001b[43m,\u001b[49m\n\u001b[0;32m      4\u001b[0m \u001b[43m[\u001b[49m\u001b[38;5;241;43m55.2\u001b[39;49m\u001b[43m,\u001b[49m\u001b[43m \u001b[49m\u001b[38;5;241;43m31.7\u001b[39;49m\u001b[43m,\u001b[49m\u001b[43m \u001b[49m\u001b[38;5;241;43m23.9\u001b[39;49m\u001b[43m]\u001b[49m\u001b[43m,\u001b[49m\n\u001b[0;32m      5\u001b[0m \u001b[43m[\u001b[49m\u001b[38;5;241;43m14.4\u001b[39;49m\u001b[43m,\u001b[49m\u001b[43m \u001b[49m\u001b[38;5;241;43m11\u001b[39;49m\u001b[43m,\u001b[49m\u001b[43m \u001b[49m\u001b[38;5;241;43m4.9\u001b[39;49m\u001b[43m]\u001b[49m\n\u001b[0;32m      6\u001b[0m \u001b[43m]\u001b[49m\u001b[43m)\u001b[49m\n\u001b[0;32m      8\u001b[0m result \u001b[38;5;241m=\u001b[39m zeros_like(macros)\n\u001b[0;32m     10\u001b[0m cal_per_macro \u001b[38;5;241m=\u001b[39m array([\u001b[38;5;241m3\u001b[39m, \u001b[38;5;241m3\u001b[39m, \u001b[38;5;241m8\u001b[39m])\n",
            "\u001b[1;31mTypeError\u001b[0m: 'numpy.ndarray' object is not callable"
          ]
        }
      ],
      "source": [
        "macros = array([\n",
        "[0.8, 2.9, 3.9],\n",
        "[52.4, 23.6, 36.5],\n",
        "[55.2, 31.7, 23.9],\n",
        "[14.4, 11, 4.9]\n",
        "])\n",
        "\n",
        "result = zeros_like(macros)\n",
        "\n",
        "cal_per_macro = array([3, 3, 8])\n",
        "\n",
        "for i in range(macros.shape[0]):\n",
        "\tresult[i, :] = macros[i, :] * cal_per_macro\n",
        "\n",
        "result\n"
      ]
    },
    {
      "cell_type": "markdown",
      "metadata": {
        "id": "bGrnWC6BDwGn"
      },
      "source": [
        "**Estimation of Variable**----\n",
        "**Variability**: It is the import dimension that measures the data variation i.e. whether the data is spread out or tightly clustered. Also known as Dispersion\n",
        "\n",
        "Terms related to Variability Metrics :\n",
        "-> Deviation\n",
        "-> Variance\n",
        "-> Standard Deviation\n",
        "-> Mean Absolute Deviation\n",
        "-> Median Absolute Deviation\n",
        "-> Order Statistics\n",
        "-> Range\n",
        "-> Percentile\n",
        "-> Inter-quartile Range"
      ]
    },
    {
      "cell_type": "code",
      "execution_count": null,
      "metadata": {
        "id": "b9fbreYnEJF_"
      },
      "outputs": [],
      "source": [
        "#Deviation: We can call it – errors or residuals also. It is the measure of how different/dispersed the values are, from the central/observed value.\n",
        "Sequence : [2, 3, 5, 6, 7, 9]\n",
        "Mean = 7\n",
        "\n",
        "Deviation = [-5, -4, -2, -1, 0, 2]"
      ]
    },
    {
      "cell_type": "code",
      "execution_count": null,
      "metadata": {
        "id": "923Ozqy5Eho0"
      },
      "outputs": [],
      "source": [
        "#Variance (s2): It is the best-known measure to estimate the variability as it is Squared Deviation. One can call it mean squared error as it is the average of standard deviation."
      ]
    },
    {
      "cell_type": "code",
      "execution_count": null,
      "metadata": {
        "id": "1uMv2uy-DvL6"
      },
      "outputs": [],
      "source": [
        "# Variance\n",
        "\n",
        "import numpy as np\n",
        "\n",
        "Sequence = [2, 3, 5, 6, 7, 9]\n",
        "\n",
        "var = np.var(Sequence)\n",
        "\n",
        "print(\"Variance : \", var)\n"
      ]
    },
    {
      "cell_type": "code",
      "execution_count": null,
      "metadata": {
        "id": "Q5lme-DUFGzS"
      },
      "outputs": [],
      "source": [
        "#Standard Deviation: It is the square root of Variance. Is also referred to as Euclidean Norm.\n",
        "# Standard Deviation\n",
        "\n",
        "import numpy as np\n",
        "\n",
        "Sequence = [2, 3, 5, 6, 7, 9]\n",
        "\n",
        "std = np.std(Sequence)\n",
        "\n",
        "print(\"Standard Deviation : \", std)\n"
      ]
    },
    {
      "cell_type": "code",
      "execution_count": null,
      "metadata": {
        "id": "n-fRiEuQFRKn"
      },
      "outputs": [],
      "source": [
        "# Mean Absolute Deviation\n",
        "\n",
        "import numpy as np\n",
        "\n",
        "def mad(data):\n",
        "\treturn np.mean(np.absolute(\n",
        "\t\t\tdata - np.mean(data)))\n",
        "\n",
        "Sequence = [2, 4, 6, 8]\n",
        "\n",
        "print (\"Mean Absolute Deviation : \", mad(Sequence))\n"
      ]
    },
    {
      "cell_type": "markdown",
      "metadata": {
        "id": "kGJOSoCeFfhy"
      },
      "source": [
        "**Python: Operations on Numpy Arrays**\n",
        "A Numpy array on a structural level is made up of a combination of:\n",
        "\n",
        "The Data pointer indicates the memory address of the first byte in the array.\n",
        "The Data type or dtype pointer describes the kind of elements that are contained within the array.\n",
        "The shape indicates the shape of the array.\n",
        "The strides are the number of bytes that should be skipped in memory to go to the next element."
      ]
    },
    {
      "cell_type": "code",
      "execution_count": null,
      "metadata": {
        "colab": {
          "base_uri": "https://localhost:8080/"
        },
        "id": "YpUYd2xWFTsq",
        "outputId": "23ebdba3-c0f4-4b47-e4b8-d2328f8db21e"
      },
      "outputs": [
        {
          "name": "stdout",
          "output_type": "stream",
          "text": [
            "First array:\n",
            "[[0. 1.]\n",
            " [2. 3.]]\n",
            "\n",
            "Second array:\n",
            "[12 12]\n",
            "\n",
            "Adding the two arrays:\n",
            "[[12. 13.]\n",
            " [14. 15.]]\n",
            "\n",
            "Subtracting the two arrays:\n",
            "[[-12. -11.]\n",
            " [-10.  -9.]]\n",
            "\n",
            "Multiplying the two arrays:\n",
            "[[ 0. 12.]\n",
            " [24. 36.]]\n",
            "\n",
            "Dividing the two arrays:\n",
            "[[0.         0.08333333]\n",
            " [0.16666667 0.25      ]]\n"
          ]
        }
      ],
      "source": [
        "# Python code to perform arithmetic\n",
        "# operations on NumPy array\n",
        "\n",
        "\n",
        "import numpy as np\n",
        "\n",
        "\n",
        "# Initializing the array\n",
        "arr1 = np.arange(4, dtype = np.float_).reshape(2, 2)\n",
        "\n",
        "print('First array:')\n",
        "print(arr1)\n",
        "\n",
        "print('\\nSecond array:')\n",
        "arr2 = np.array([12, 12])\n",
        "print(arr2)\n",
        "\n",
        "print('\\nAdding the two arrays:')\n",
        "print(np.add(arr1, arr2))\n",
        "\n",
        "print('\\nSubtracting the two arrays:')\n",
        "print(np.subtract(arr1, arr2))\n",
        "\n",
        "print('\\nMultiplying the two arrays:')\n",
        "print(np.multiply(arr1, arr2))\n",
        "\n",
        "print('\\nDividing the two arrays:')\n",
        "print(np.divide(arr1, arr2))\n"
      ]
    },
    {
      "cell_type": "code",
      "execution_count": null,
      "metadata": {
        "colab": {
          "base_uri": "https://localhost:8080/"
        },
        "id": "8BPFOb8WFz3v",
        "outputId": "208cde1e-14ce-4e3c-b3aa-6847d834daa0"
      },
      "outputs": [
        {
          "name": "stdout",
          "output_type": "stream",
          "text": [
            "The sum of your numbers is 227.3\n"
          ]
        }
      ],
      "source": [
        "#How to use the NumPy sum function ?\n",
        "# Let's define our function\n",
        "# Parameters: Input Array\n",
        "def sum(array):\n",
        "\n",
        "\t# Set variable for our final answer\n",
        "\tsum = 0\n",
        "\n",
        "\t# Parse through our array\n",
        "\tfor i in array:\n",
        "\n",
        "\t\t# Continuously add current element\n",
        "\t\t# to final sum\n",
        "\t\tsum += i\n",
        "\n",
        "\t# Return our sum\n",
        "\treturn sum\n",
        "\n",
        "\n",
        "# Create a test array\n",
        "testArray = [1, 3, 34, 92, 29, 48, 20.3]\n",
        "\n",
        "# Test our function\n",
        "print('The sum of your numbers is ' + str(sum(testArray)))\n"
      ]
    },
    {
      "cell_type": "code",
      "execution_count": null,
      "metadata": {
        "id": "D_TZmho-GBpz"
      },
      "outputs": [],
      "source": [
        "# Import NumPy Library\n",
        "import numpy as np\n",
        "\n",
        "# Let's begin with an example array\n",
        "# Initialize our array\n",
        "array = [1, 4, 2.5, 3, 7.4, 8]\n",
        "\n",
        "# Utilize the sum() function\n",
        "print('The sum of these numbers is ' + str(np.sum(array)))\n"
      ]
    },
    {
      "cell_type": "code",
      "execution_count": null,
      "metadata": {
        "id": "sPSSnS82GHZ_"
      },
      "outputs": [],
      "source": [
        "# Python program explaining\n",
        "# divide() function\n",
        "import numpy as np\n",
        "\n",
        "# input_array\n",
        "arr1 = [2, 27, 2, 21, 23]\n",
        "arr2 = [2, 3, 4, 5, 6]\n",
        "print (\"arr1\t\t : \", arr1)\n",
        "print (\"arr2\t\t : \", arr2)\n",
        "\n",
        "# output_array\n",
        "out = np.divide(arr1, arr2)\n",
        "print (\"\\nOutput array : \\n\", out)\n"
      ]
    },
    {
      "cell_type": "code",
      "execution_count": null,
      "metadata": {
        "colab": {
          "base_uri": "https://localhost:8080/"
        },
        "id": "axtLIx1SGWg_",
        "outputId": "721e024d-e84a-41a5-8a37-11f1c3ce3ded"
      },
      "outputs": [
        {
          "name": "stdout",
          "output_type": "stream",
          "text": [
            "inner Product of scalar values :  20\n",
            "inner Product :  (-7+22j)\n"
          ]
        }
      ],
      "source": [
        "#numpy.inner(arr1, arr2): Computes the inner product of two arrays.\n",
        "# Python Program illustrating\n",
        "# numpy.inner() method\n",
        "\n",
        "import numpy as g\n",
        "\n",
        "# Scalars\n",
        "product = g.inner(5, 4)\n",
        "print(\"inner Product of scalar values : \", product)\n",
        "\n",
        "# 1D array\n",
        "vector_a = 2 + 3j\n",
        "vector_b = 4 + 5j\n",
        "\n",
        "product = g.inner(vector_a, vector_b)\n",
        "print(\"inner Product : \", product)\n"
      ]
    },
    {
      "cell_type": "code",
      "execution_count": null,
      "metadata": {
        "id": "x7IhNMz3GoVO"
      },
      "outputs": [],
      "source": [
        "#numpy.gcd() in Python Greatest Common Divisor (GCD)\n",
        "# Python program illustrating\n",
        "# gcd() method\n",
        "import numpy as np\n",
        "\n",
        "arr1 = [120, 24, 42, 10]\n",
        "arr2 = [2250, 12, 20, 50]\n",
        "\n",
        "print (\"arr1 : \", arr1)\n",
        "print (\"arr2 : \", arr2)\n",
        "\n",
        "print (\"\\nGCD of arr1 and arr2 : \", np.gcd(arr1, arr2))\n",
        "print (\"\\nGCD of arr1 and 10 : \", np.gcd(arr1, 10))\n",
        "\n"
      ]
    },
    {
      "cell_type": "code",
      "execution_count": null,
      "metadata": {
        "id": "bVQRRtPgHXRC"
      },
      "outputs": [],
      "source": [
        "#Numpy | Linear Algebra\n",
        "# Importing numpy as np\n",
        "import numpy as np\n",
        "\n",
        "A = np.array([[6, 1, 1],\n",
        "              [4, -2, 5],\n",
        "              [2, 8, 7]])\n",
        "\n",
        "# Rank of a matrix\n",
        "print(\"Rank of A:\", np.linalg.matrix_rank(A))\n",
        "\n",
        "# Trace of matrix A\n",
        "print(\"\\nTrace of A:\", np.trace(A))\n",
        "\n",
        "# Determinant of a matrix\n",
        "print(\"\\nDeterminant of A:\", np.linalg.det(A))\n",
        "\n",
        "# Inverse of matrix A\n",
        "print(\"\\nInverse of A:\\n\", np.linalg.inv(A))\n",
        "\n",
        "print(\"\\nMatrix A raised to power 3:\\n\",\n",
        "           np.linalg.matrix_power(A, 3))\n"
      ]
    },
    {
      "cell_type": "code",
      "execution_count": null,
      "metadata": {
        "id": "H0ojCmbVHih7"
      },
      "outputs": [],
      "source": [
        "# Python Program illustrating\n",
        "# numpy.dot() method\n",
        "\n",
        "import numpy as geek\n",
        "\n",
        "# Scalars\n",
        "product = geek.dot(5, 4)\n",
        "print(\"Dot Product of scalar values  : \", product)\n",
        "\n",
        "# 1D array\n",
        "vector_a = 2 + 3j\n",
        "vector_b = 4 + 5j\n",
        "\n",
        "product = geek.dot(vector_a, vector_b)\n",
        "print(\"Dot Product  : \", product)\n"
      ]
    },
    {
      "cell_type": "markdown",
      "metadata": {
        "id": "yxNLp_T9H8gE"
      },
      "source": [
        "https://www.javatpoint.com/numpy-linear-algebra"
      ]
    },
    {
      "cell_type": "markdown",
      "metadata": {
        "id": "GPC6_CCfIE3B"
      },
      "source": [
        "**umPy Universal functions** (ufuncs in short) are simple mathematical functions that operate on ndarray (N-dimensional array) in an element-wise fashion.\n",
        "\n",
        "It supports array broadcasting, type casting, and several other standard features.\n",
        "\n",
        "NumPy provides various universal functions like standard trigonometric functions, functions for arithmetic operations, handling complex numbers, statistical functions, etc.\n",
        "\n",
        "ufunc’s Trigonometric Functions in NumPy\n",
        "\n",
        "Function\tDescription\n",
        "sin, cos, tan\tcompute the sine, cosine, and tangent of angles\n",
        "arcsin, arccos, arctan\tcalculate inverse sine, cosine, and tangent\n",
        "hypot\tcalculate the hypotenuse of the given right triangle\n",
        "sinh, cosh, tanh\tcompute hyperbolic sine, cosine, and tangent\n",
        "arcsinh, arccosh, arctanh\tcompute inverse hyperbolic sine, cosine, and tangent\n",
        "deg2rad\tconvert degree into radians\n",
        "rad2deg\tconvert radians into degree"
      ]
    },
    {
      "cell_type": "code",
      "execution_count": null,
      "metadata": {
        "id": "-1fcY--wH-MM"
      },
      "outputs": [],
      "source": [
        "# Python code to demonstrate trigonometric function\n",
        "import numpy as np\n",
        "\n",
        "# create an array of angles\n",
        "angles = np.array([0, 30, 45, 60, 90, 180])\n",
        "\n",
        "# conversion of degree into radians\n",
        "# using deg2rad function\n",
        "radians = np.deg2rad(angles)\n",
        "\n",
        "# sine of angles\n",
        "print('Sine of angles in the array:')\n",
        "sine_value = np.sin(radians)\n",
        "print(np.sin(radians))\n",
        "\n",
        "# inverse sine of sine values\n",
        "print('Inverse Sine of sine values:')\n",
        "print(np.rad2deg(np.arcsin(sine_value)))\n",
        "\n",
        "# hyperbolic sine of angles\n",
        "print('Sine hyperbolic of angles in the array:')\n",
        "sineh_value = np.sinh(radians)\n",
        "print(np.sinh(radians))\n",
        "\n",
        "# inverse sine hyperbolic\n",
        "print('Inverse Sine hyperbolic:')\n",
        "print(np.sin(sineh_value))\n",
        "\n",
        "# hypot function demonstration\n",
        "base = 4\n",
        "height = 3\n",
        "print('hypotenuse of right triangle is:')\n",
        "print(np.hypot(base, height))\n"
      ]
    },
    {
      "cell_type": "code",
      "execution_count": null,
      "metadata": {
        "id": "7wI7RLbaI7G6"
      },
      "outputs": [],
      "source": []
    },
    {
      "cell_type": "markdown",
      "metadata": {
        "id": "5oJlpSq1JCbg"
      },
      "source": [
        "**Create your own universal function in NumPy**\n",
        "Below are the ways by which we can create our universal function in NumPy:\n",
        "\n",
        "Using frompyfunc() Function\n",
        "\n",
        "Using numpy.vectorize() Function"
      ]
    },
    {
      "cell_type": "code",
      "execution_count": null,
      "metadata": {
        "colab": {
          "base_uri": "https://localhost:8080/"
        },
        "id": "Z8jrl0oLJGUS",
        "outputId": "414cd03d-be82-42da-df16-5fb7baddb65c"
      },
      "outputs": [
        {
          "name": "stdout",
          "output_type": "stream",
          "text": [
            "arr\t : 1 2 3 4 5 6 7 8 9 10\n",
            "mod_arr : 1 0 1 0 1 0 1 0 1 0\n"
          ]
        }
      ],
      "source": [
        "# using numpy\n",
        "import numpy as np\n",
        "\n",
        "# creating own function\n",
        "def fxn(val):\n",
        "      return(val % 2)\n",
        "\n",
        "# adding into numpy\n",
        "mod_2 = np.frompyfunc(fxn, 1, 1)\n",
        "\n",
        "# creating numpy array\n",
        "arr = np.arange(1, 11)\n",
        "print(\"arr\t :\", *arr)\n",
        "\n",
        "# using function over numpy array\n",
        "mod_arr = mod_2(arr)\n",
        "print(\"mod_arr :\", *mod_arr)\n"
      ]
    },
    {
      "cell_type": "code",
      "execution_count": null,
      "metadata": {
        "colab": {
          "base_uri": "https://localhost:8080/"
        },
        "id": "E_3hIqsOKVg4",
        "outputId": "dce857cb-06d0-4214-9bc2-ca32ee5299e3"
      },
      "outputs": [
        {
          "name": "stdout",
          "output_type": "stream",
          "text": [
            "[ 3.14159265 12.56637061 28.27433388 50.26548246]\n"
          ]
        }
      ],
      "source": [
        "#Create Own Universal Function Using np.vectorize() Function\n",
        "import numpy as np\n",
        "\n",
        "def circle_area(radius):\n",
        "\treturn np.pi * radius**2\n",
        "\n",
        "# Create a vectorized version of the function\n",
        "circle_ufunc = np.vectorize(circle_area)\n",
        "\n",
        "# Test the ufunc with a single value\n",
        "radius_values = np.array([1, 2, 3, 4])\n",
        "areas = circle_ufunc(radius_values)\n",
        "print(areas)\n"
      ]
    },
    {
      "cell_type": "markdown",
      "metadata": {
        "id": "U3Pf4oLnK3Zs"
      },
      "source": [
        "***Searching in a NumPy array***\n",
        "\n",
        "Numpy provides various methods for searching different kinds of numerical values, in this article, we will cover two important ones.\n",
        "\n",
        "numpy.where()\n",
        "\n",
        "numpy.searchsorted()"
      ]
    },
    {
      "cell_type": "code",
      "execution_count": null,
      "metadata": {
        "colab": {
          "base_uri": "https://localhost:8080/"
        },
        "id": "9I3TnB1nK18p",
        "outputId": "8b2f54c5-3a2a-4008-9b9b-b30ab30ffd5e"
      },
      "outputs": [
        {
          "name": "stdout",
          "output_type": "stream",
          "text": [
            "arr = [10 32 30 50 20 82 91 45]\n",
            "i = (array([2]),)\n"
          ]
        }
      ],
      "source": [
        "# numpy.where:() It returns the indices of elements in an input array where the given condition is satisfied.\n",
        "# importing the module\n",
        "import numpy as np\n",
        "\n",
        "# creating the array\n",
        "arr = np.array([10, 32, 30, 50, 20, 82, 91, 45])\n",
        "\n",
        "# printing arr\n",
        "print(\"arr = {}\".format(arr))\n",
        "\n",
        "# looking for value 30 in arr and storing its index in i\n",
        "i = np.where(arr == 30)\n",
        "print(\"i = {}\".format(i))\n"
      ]
    },
    {
      "cell_type": "code",
      "execution_count": null,
      "metadata": {
        "colab": {
          "base_uri": "https://localhost:8080/"
        },
        "id": "amdqvxpCLWcg",
        "outputId": "65835ae0-8db5-402f-fa98-764dc7a492cb"
      },
      "outputs": [
        {
          "name": "stdout",
          "output_type": "stream",
          "text": [
            "arr = [1, 2, 2, 3, 3, 3, 4, 5, 6, 6]\n",
            "left-most index = 3\n",
            "right-most index = 6\n"
          ]
        }
      ],
      "source": [
        "#numpy.searchsorted(): The function is used to find the indices into a sorted array arr such that, if elements are inserted before the indices, the order of arr would be still preserved.\n",
        "#Here, a binary search is used to find the required insertion indices.\n",
        "# importing the module\n",
        "import numpy as np\n",
        "\n",
        "# creating the array\n",
        "arr = [1, 2, 2, 3, 3, 3, 4, 5, 6, 6]\n",
        "print(\"arr = {}\".format(arr))\n",
        "\n",
        "# left-most 3\n",
        "print(\"left-most index = {}\".format(np.searchsorted(arr, 3, side=\"left\")))\n",
        "\n",
        "# right-most 3\n",
        "print(\"right-most index = {}\".format(np.searchsorted(arr, 3, side=\"right\")))\n"
      ]
    },
    {
      "cell_type": "markdown",
      "metadata": {
        "id": "6QgDrIMnTnlU"
      },
      "source": [
        "**NumPy Array Sorting | How to sort NumPy Array**\n",
        "You can sort an array in NumPy:\n",
        "\n",
        "Using np.sort() function\n",
        "\n",
        "in-line sort\n",
        "\n",
        "sorting along different axes\n",
        "\n",
        "Using np.argsort() function\n",
        "\n",
        "Using np.lexsort() function"
      ]
    },
    {
      "cell_type": "code",
      "execution_count": null,
      "metadata": {
        "id": "yVXbIctISMaY"
      },
      "outputs": [],
      "source": [
        "# importing libraries\n",
        "import numpy as np\n",
        "\n",
        "a = np.array([12, 15, 10, 1])\n",
        "print(\"Array before sorting\",a)\n",
        "a.sort()\n",
        "print(\"Array after sorting\",a)\n"
      ]
    },
    {
      "cell_type": "code",
      "execution_count": null,
      "metadata": {
        "colab": {
          "base_uri": "https://localhost:8080/"
        },
        "id": "RNgAv_utT36L",
        "outputId": "4cfc7fd0-89eb-479d-f216-393ff991500b"
      },
      "outputs": [
        {
          "name": "stdout",
          "output_type": "stream",
          "text": [
            "Along first axis : \n",
            " [[10  1]\n",
            " [12 15]]\n",
            "\n",
            "Along last axis : \n",
            " [[10 15]\n",
            " [ 1 12]]\n",
            "\n",
            "Along none axis : \n",
            " [ 1 10 12 15]\n"
          ]
        }
      ],
      "source": [
        "# importing libraries\n",
        "import numpy as np\n",
        "# sort along the first axis\n",
        "a = np.array([[12, 15], [10, 1]])\n",
        "arr1 = np.sort(a, axis = 0)\n",
        "print (\"Along first axis : \\n\", arr1)\n",
        "# sort along the last axis\n",
        "a = np.array([[10, 15], [12, 1]])\n",
        "arr2 = np.sort(a, axis = -1)\n",
        "print (\"\\nAlong last axis : \\n\", arr2)\n",
        "a = np.array([[12, 15], [10, 1]])\n",
        "arr1 = np.sort(a, axis = None)\n",
        "print (\"\\nAlong none axis : \\n\", arr1)\n"
      ]
    },
    {
      "cell_type": "code",
      "execution_count": null,
      "metadata": {
        "id": "G8YMof6WVCzD"
      },
      "outputs": [],
      "source": []
    },
    {
      "cell_type": "markdown",
      "metadata": {
        "id": "IKL_dt1oVeWF"
      },
      "source": [
        "https://www.javatpoint.com/variations-in-different-sorting-techniques-in-python"
      ]
    }
  ],
  "metadata": {
    "colab": {
      "provenance": []
    },
    "kernelspec": {
      "display_name": "Python 3",
      "name": "python3"
    },
    "language_info": {
      "codemirror_mode": {
        "name": "ipython",
        "version": 3
      },
      "file_extension": ".py",
      "mimetype": "text/x-python",
      "name": "python",
      "nbconvert_exporter": "python",
      "pygments_lexer": "ipython3",
      "version": "3.11.4"
    }
  },
  "nbformat": 4,
  "nbformat_minor": 0
}
