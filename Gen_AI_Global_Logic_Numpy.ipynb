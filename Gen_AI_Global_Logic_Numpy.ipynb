{
  "cells": [
    {
      "cell_type": "markdown",
      "metadata": {
        "id": "P6LzBrZhf4_F"
      },
      "source": [
        "**Syllabus-Numpy**"
      ]
    },
    {
      "cell_type": "markdown",
      "metadata": {
        "id": "vQTjqwp7fpLs"
      },
      "source": [
        "**Introduction to Numpy, Numpy array, array, data type object, creating Numpy array, array manipulation, Array operations, reshaping, indexing, Arithmetic operations Linear algebra numpy, Random data handling, NumPy ufuncs | Universal functions**"
      ]
    },
    {
      "cell_type": "markdown",
      "metadata": {
        "id": "Y7EqH94-km7o"
      },
      "source": [
        "**Numpy**\n",
        "\n",
        "NumPy is a general-purpose array-processing Python library which provides handy methods/functions for working n-dimensional arrays.\n",
        "NumPy is a short form for “Numerical Python“.\n",
        "It provides various computing tools such as comprehensive mathematical functions, and linear algebra routines.\n",
        "\n",
        "NumPy provides both the flexibility of Python and the speed of well-optimized compiled C code.\n",
        "\n",
        "Its easy-to-use syntax makes it highly accessible and productive for programmers from any background.\n"
      ]
    },
    {
      "cell_type": "code",
      "execution_count": null,
      "metadata": {
        "colab": {
          "base_uri": "https://localhost:8080/"
        },
        "id": "9AwDZ9QYj92o",
        "outputId": "1564ae6b-93ef-49f7-e4b0-ca59ba26760b"
      },
      "outputs": [
        {
          "name": "stdout",
          "output_type": "stream",
          "text": [
            "Requirement already satisfied: numpy in /usr/local/lib/python3.10/dist-packages (1.25.2)\n"
          ]
        }
      ],
      "source": [
        "#Installation of Numpy Using PIP\n",
        "\n",
        "!pip install numpy"
      ]
    },
    {
      "cell_type": "markdown",
      "metadata": {
        "id": "DfSJVhFqgKvS"
      },
      "source": [
        "***Array creation using List :***"
      ]
    },
    {
      "cell_type": "code",
      "execution_count": null,
      "metadata": {
        "colab": {
          "base_uri": "https://localhost:8080/"
        },
        "collapsed": true,
        "id": "TYaL6ybDgP8j",
        "outputId": "9809fd84-d2b5-4386-ebc4-f37fed4b3076"
      },
      "outputs": [
        {
          "data": {
            "text/plain": [
              "[1, 2, 3, 4, 5]"
            ]
          },
          "execution_count": 22,
          "metadata": {},
          "output_type": "execute_result"
        }
      ],
      "source": [
        "# Python program to create\n",
        "# an array\n",
        "\n",
        "# Creating an array using list\n",
        "arr=[1, 2, 3, 4, 5]\n",
        "arr"
      ]
    },
    {
      "cell_type": "code",
      "execution_count": null,
      "metadata": {
        "id": "78zS4jqJhKbs"
      },
      "outputs": [],
      "source": [
        "arr = [1, 2, 3, 4, 5]\n",
        "arr1 = [\"geeks\", \"for\", \"geeks\"]"
      ]
    },
    {
      "cell_type": "markdown",
      "metadata": {},
      "source": [
        "Array creation using numpy"
      ]
    },
    {
      "cell_type": "code",
      "execution_count": null,
      "metadata": {},
      "outputs": [],
      "source": [
        "import numpy as np \n",
        "arr = np.array([1,2,3,4,5,6,7,8,9])\n",
        "arr"
      ]
    },
    {
      "cell_type": "markdown",
      "metadata": {
        "id": "caW92mSghwk_"
      },
      "source": [
        "**Array creation using numpy methods**\n",
        "NumPy offers several functions to create arrays with initial placeholder content. These minimize the necessity of growing arrays, an expensive operation. For example: np.zeros,np.empty etc.\n"
      ]
    },
    {
      "cell_type": "code",
      "execution_count": 7,
      "metadata": {
        "colab": {
          "base_uri": "https://localhost:8080/"
        },
        "id": "Bg9jH3TahMRN",
        "outputId": "877eb355-33c7-4652-e931-e75118b86fd8"
      },
      "outputs": [
        {
          "name": "stdout",
          "output_type": "stream",
          "text": [
            "\n",
            "Matrix a : \n",
            " [[   0    1]\n",
            " [   0  360]\n",
            " [1164    0]\n",
            " [ 768  360]]\n"
          ]
        }
      ],
      "source": [
        "# Python Programming illustrating\n",
        "# numpy.empty method\n",
        "\n",
        "import numpy as np\n",
        "\n",
        "# b = np.empty(1, dtype = int)\n",
        "# print(\"Matrix b : \\n\", b)\n",
        "\n",
        "a = np.empty([2, 2], dtype = int)\n",
        "print(\"\\nMatrix a : \\n\", a)\n",
        "\n",
        "c = np.empty([3, 3])\n",
        "print(\"\\nMatrix c : \\n\", c)"
      ]
    },
    {
      "cell_type": "code",
      "execution_count": 10,
      "metadata": {
        "colab": {
          "base_uri": "https://localhost:8080/"
        },
        "collapsed": true,
        "id": "lJmTALy6iGxp",
        "outputId": "c3e2b835-6df1-45a3-ee84-69dac9841a29"
      },
      "outputs": [
        {
          "name": "stdout",
          "output_type": "stream",
          "text": [
            "Matrix b : \n",
            " [0 0]\n",
            "\n",
            "Matrix a : \n",
            " [[0 0]\n",
            " [0 0]]\n",
            "\n",
            "Matrix c : \n",
            " [[0 0 0]\n",
            " [0 0 0]\n",
            " [0 0 0]]\n"
          ]
        }
      ],
      "source": [
        "# Python Program illustrating\n",
        "# numpy.zeros method\n",
        "\n",
        "import numpy as np\n",
        "\n",
        "# by default dtype is float\n",
        "b = np.zeros(2, dtype = int)\n",
        "print(\"Matrix b : \\n\", b)\n",
        "\n",
        "a = np.zeros([2, 2], dtype = int)\n",
        "print(\"\\nMatrix a : \\n\", a)\n",
        "\n",
        "c = np.zeros([3, 3], dtype = int)\n",
        "print(\"\\nMatrix c : \\n\", c)"
      ]
    },
    {
      "cell_type": "markdown",
      "metadata": {
        "id": "XnBCklW6iheL"
      },
      "source": [
        "**numpy.arange() in Python**\n",
        "Returns an array with evenly spaced elements as per the interval. The interval mentioned is half-opened i.e. [Start, Stop)"
      ]
    },
    {
      "cell_type": "code",
      "execution_count": 19,
      "metadata": {
        "colab": {
          "base_uri": "https://localhost:8080/"
        },
        "id": "nG9eYZvXiWgL",
        "outputId": "0ec3860e-8cf2-435f-f35b-7a63c772295e"
      },
      "outputs": [
        {
          "name": "stdout",
          "output_type": "stream",
          "text": [
            "A\n",
            " [0 1 2 3]\n",
            "A\n",
            " [[0 1]\n",
            " [2 3]] \n",
            "\n",
            "A\n",
            " [4 5 6 7 8 9] \n",
            "\n",
            "A\n",
            " [ 4  7 10 13 16 19] \n",
            "\n"
          ]
        }
      ],
      "source": [
        "# Python Programming illustrating\n",
        "# numpy.arange method\n",
        "\n",
        "import numpy as np\n",
        "\n",
        "print(\"A\\n\", np.arange(4)) # 0 se 3 (4-1) tk ke number de dega \n",
        "print(\"A\\n\", np.arange(4).reshape(2, 2), \"\\n\")\n",
        "print(\"A\\n\", np.arange(4, 10), \"\\n\") # 4 se 9 (10-1)\n",
        "\n",
        "\n",
        "print(\"A\\n\", np.arange(4, 20, 3), \"\\n\")\n",
        "#3rd argument is of gap \n"
      ]
    },
    {
      "cell_type": "markdown",
      "metadata": {
        "id": "Kfer0nKyi-0Y"
      },
      "source": [
        "**numpy.zeros() in Python**\n",
        "The numpy.zeros() function returns a new array of given shape and type, with zeros."
      ]
    },
    {
      "cell_type": "code",
      "execution_count": 22,
      "metadata": {
        "colab": {
          "base_uri": "https://localhost:8080/"
        },
        "id": "1Il9mGCNi7SG",
        "outputId": "ab213b77-2053-4d7b-9461-5da4391adc58"
      },
      "outputs": [
        {
          "name": "stdout",
          "output_type": "stream",
          "text": [
            "[(0., 0) (0., 0)]\n"
          ]
        }
      ],
      "source": [
        "# Python Program illustrating\n",
        "# numpy.zeros method\n",
        "\n",
        "import numpy as np\n",
        "\n",
        "# manipulation with data-types\n",
        "b = np.zeros((2,), dtype=[('x', 'float'), ('y', 'int')])\n",
        "print(b)\n"
      ]
    },
    {
      "cell_type": "markdown",
      "metadata": {},
      "source": [
        "Identity Matrix"
      ]
    },
    {
      "cell_type": "code",
      "execution_count": 23,
      "metadata": {},
      "outputs": [
        {
          "data": {
            "text/plain": [
              "array([[1., 0., 0.],\n",
              "       [0., 1., 0.],\n",
              "       [0., 0., 1.]])"
            ]
          },
          "execution_count": 23,
          "metadata": {},
          "output_type": "execute_result"
        }
      ],
      "source": [
        "arr1 = np.identity(3)\n",
        "# arr1 = np.identity(3 ,dtype=int)\n",
        "arr1"
      ]
    },
    {
      "cell_type": "markdown",
      "metadata": {},
      "source": [
        "Give equal space between the given range "
      ]
    },
    {
      "cell_type": "code",
      "execution_count": 24,
      "metadata": {},
      "outputs": [
        {
          "data": {
            "text/plain": [
              "array([10.        , 11.11111111, 12.22222222, 13.33333333, 14.44444444,\n",
              "       15.55555556, 16.66666667, 17.77777778, 18.88888889, 20.        ])"
            ]
          },
          "execution_count": 24,
          "metadata": {},
          "output_type": "execute_result"
        }
      ],
      "source": [
        "arr2 = np.linspace(10,20,10) #10 numbers aayenge between 10 and 20 eyually spaced  \n",
        "arr2"
      ]
    },
    {
      "cell_type": "markdown",
      "metadata": {
        "id": "Igw2B5hij40q"
      },
      "source": [
        "**numpy.eye() in Python**\n",
        "The eye tool returns a 2-D array with  1’s as the diagonal and  0’s elsewhere. The diagonal can be main, upper, or lower depending on the optional parameter k. A positive k is for the upper diagonal, a negative k is for the lower, and a  0 k (default) is for the main diagonal."
      ]
    },
    {
      "cell_type": "code",
      "execution_count": null,
      "metadata": {
        "colab": {
          "base_uri": "https://localhost:8080/"
        },
        "id": "1n5eEG_TjkNz",
        "outputId": "3fa9bad8-80fa-4567-f123-c59b53245fad"
      },
      "outputs": [
        {
          "name": "stdout",
          "output_type": "stream",
          "text": [
            "Matrix b : \n",
            " [[1 0]\n",
            " [0 1]]\n",
            "\n",
            "Matrix a : \n",
            " [[0. 0. 1. 0. 0.]\n",
            " [0. 0. 0. 1. 0.]\n",
            " [0. 0. 0. 0. 1.]\n",
            " [0. 0. 0. 0. 0.]]\n"
          ]
        }
      ],
      "source": [
        "# Python Programming illustrating\n",
        "# numpy.eye method\n",
        "\n",
        "import numpy as g\n",
        "\n",
        "# 2x2 matrix with 1's on main diagonal\n",
        "b = g.eye(2, dtype = int)\n",
        "print(\"Matrix b : \\n\", b)\n",
        "\n",
        "# matrix with R=4 C=5 and 1 on diagonal\n",
        "# below main diagonal\n",
        "a = g.eye(4, 5, k = 2)\n",
        "print(\"\\nMatrix a : \\n\", a)\n"
      ]
    },
    {
      "cell_type": "markdown",
      "metadata": {
        "id": "dbgqt8p4k-4N"
      },
      "source": [
        "**How to Copy NumPy array into another array?**"
      ]
    },
    {
      "cell_type": "code",
      "execution_count": 25,
      "metadata": {
        "colab": {
          "base_uri": "https://localhost:8080/"
        },
        "id": "o9CuEmZSkk0M",
        "outputId": "9dcc581f-b3c6-4603-e925-f0b5ebeb2b05"
      },
      "outputs": [
        {
          "name": "stdout",
          "output_type": "stream",
          "text": [
            "Original array: \n",
            "[ 1.54  2.99  3.42  4.87  6.94  8.21  7.65 10.5  77.5 ]\n",
            "\n",
            "Copied array: \n",
            "[ 1.54  2.99  3.42  4.87  6.94  8.21  7.65 10.5  77.5 ]\n"
          ]
        }
      ],
      "source": [
        "# importing Numpy package\n",
        "import numpy as np\n",
        "\n",
        "# Creating a numpy array using np.array()\n",
        "org_array = np.array([1.54, 2.99, 3.42, 4.87, 6.94,\n",
        "\t\t\t\t\t8.21, 7.65, 10.50, 77.5])\n",
        "\n",
        "print(\"Original array: \")\n",
        "\n",
        "# printing the Numpy array\n",
        "print(org_array)\n",
        "\n",
        "# Now copying the org_array to copy_array\n",
        "# using np.copy() function\n",
        "copy_array = np.copy(org_array)\n",
        "\n",
        "print(\"\\nCopied array: \")\n",
        "\n",
        "# printing the copied Numpy array\n",
        "print(copy_array)\n"
      ]
    },
    {
      "cell_type": "markdown",
      "metadata": {},
      "source": [
        "To find array kitna dimensional hai"
      ]
    },
    {
      "cell_type": "code",
      "execution_count": 36,
      "metadata": {},
      "outputs": [
        {
          "data": {
            "text/plain": [
              "3"
            ]
          },
          "execution_count": 36,
          "metadata": {},
          "output_type": "execute_result"
        }
      ],
      "source": [
        "# arr3 = np.array([[[1,2],[3,4],[4,5]]])\n",
        "# arr3\n",
        "# arr3.shape\n",
        "# arr3.ndim\n",
        "\n",
        "\n",
        "arr4 = np.array([[[1,2],[3,4]],[[4,5],[5,6]]])\n",
        "arr4\n",
        "arr4.shape\n",
        "arr4.ndim"
      ]
    },
    {
      "cell_type": "markdown",
      "metadata": {},
      "source": [
        "Some attributes of numpy\n",
        "1. shape\n",
        "2. ndim -- dimension batayega \n",
        "3. size -- no. of items batyega in DS\n",
        "4. itemsize --- storage (datatype kitna byte le rha hai ) \n",
        "5. dtype---- type kya hai DS ka \n",
        "6. astype() --- to change the datatype  \n",
        "    Eg . Usage - if there is age attribute present in float so we can make it int using astype."
      ]
    },
    {
      "cell_type": "markdown",
      "metadata": {},
      "source": [
        "List vs Arrays(numpy)\n",
        "1. Arrays are Faster\n",
        "2. Arrays are Convenient\n",
        "3. Array takes Less Memory "
      ]
    },
    {
      "cell_type": "markdown",
      "metadata": {},
      "source": [
        "Proof that it takes less memory"
      ]
    },
    {
      "cell_type": "code",
      "execution_count": 42,
      "metadata": {},
      "outputs": [
        {
          "name": "stdout",
          "output_type": "stream",
          "text": [
            "400\n"
          ]
        }
      ],
      "source": [
        "import sys\n",
        "lista=range(100)\n",
        "arr4=np.arange(100)\n",
        "\n",
        "# print(sys.getsizeof(80)*len(lista)) #2800 bytes\n",
        "\n",
        "# arr4.size #100\n",
        "print(arr4.itemsize*arr4.size)  #400 bytes\n",
        "\n"
      ]
    },
    {
      "cell_type": "markdown",
      "metadata": {},
      "source": [
        "Proof that it is faster and convenient"
      ]
    },
    {
      "cell_type": "code",
      "execution_count": 45,
      "metadata": {},
      "outputs": [
        {
          "name": "stdout",
          "output_type": "stream",
          "text": [
            "1.8366711139678955\n"
          ]
        }
      ],
      "source": [
        "import time\n",
        "#For list \n",
        "x= range(100000)\n",
        "y = range(100000,200000)\n",
        "\n",
        "start_time = time.time()\n",
        "c= [x+y for x,y in zip(x,y)]\n",
        "\n",
        "print(time.time() -start_time)  #0.02956390380859375"
      ]
    },
    {
      "cell_type": "code",
      "execution_count": 46,
      "metadata": {},
      "outputs": [
        {
          "name": "stdout",
          "output_type": "stream",
          "text": [
            "0.31301188468933105\n"
          ]
        }
      ],
      "source": [
        "import time\n",
        "import numpy as np\n",
        "#For array  \n",
        "a= np.arange(100000)\n",
        "b = np.arange(100000,200000)\n",
        "\n",
        "start_time = time.time()\n",
        "c=a+b\n",
        "\n",
        "print(time.time() -start_time) #0.005245208740234375\n"
      ]
    },
    {
      "cell_type": "markdown",
      "metadata": {},
      "source": [
        "Slicing "
      ]
    },
    {
      "cell_type": "code",
      "execution_count": 1,
      "metadata": {},
      "outputs": [
        {
          "data": {
            "text/plain": [
              "array([[ 0,  1,  2,  3],\n",
              "       [ 4,  5,  6,  7],\n",
              "       [ 8,  9, 10, 11],\n",
              "       [12, 13, 14, 15],\n",
              "       [16, 17, 18, 19],\n",
              "       [20, 21, 22, 23]])"
            ]
          },
          "execution_count": 1,
          "metadata": {},
          "output_type": "execute_result"
        }
      ],
      "source": [
        "import numpy as np \n",
        "arr = np.arange(24)\n",
        "arr\n",
        "arr5 = arr.reshape(6,4)\n",
        "arr5\n",
        "# arr5[2]"
      ]
    },
    {
      "cell_type": "code",
      "execution_count": 58,
      "metadata": {},
      "outputs": [
        {
          "data": {
            "text/plain": [
              "array([[ 2,  3],\n",
              "       [ 6,  7],\n",
              "       [10, 11],\n",
              "       [14, 15],\n",
              "       [18, 19],\n",
              "       [22, 23]])"
            ]
          },
          "execution_count": 58,
          "metadata": {},
          "output_type": "execute_result"
        }
      ],
      "source": [
        "arr5[:,2] #second column print krdega \n",
        "arr5[:,2:] #second and third column print krdega "
      ]
    },
    {
      "cell_type": "code",
      "execution_count": 61,
      "metadata": {},
      "outputs": [
        {
          "data": {
            "text/plain": [
              "array([[18, 19],\n",
              "       [22, 23]])"
            ]
          },
          "execution_count": 61,
          "metadata": {},
          "output_type": "execute_result"
        }
      ],
      "source": [
        "#Now I need to extract 18,19,22,23\n",
        "arr5[2:4,1:3]\n",
        "\n",
        "\n",
        "#Now I need to extract 9 ,10,13,14 \n",
        "arr5[4:,2:]\n",
        "\n"
      ]
    },
    {
      "cell_type": "markdown",
      "metadata": {},
      "source": [
        "Iteration"
      ]
    },
    {
      "cell_type": "code",
      "execution_count": 62,
      "metadata": {},
      "outputs": [
        {
          "data": {
            "text/plain": [
              "array([[ 0,  1,  2,  3],\n",
              "       [ 4,  5,  6,  7],\n",
              "       [ 8,  9, 10, 11],\n",
              "       [12, 13, 14, 15],\n",
              "       [16, 17, 18, 19],\n",
              "       [20, 21, 22, 23]])"
            ]
          },
          "execution_count": 62,
          "metadata": {},
          "output_type": "execute_result"
        }
      ],
      "source": [
        "arr5"
      ]
    },
    {
      "cell_type": "code",
      "execution_count": 64,
      "metadata": {},
      "outputs": [
        {
          "name": "stdout",
          "output_type": "stream",
          "text": [
            "[0 1 2 3]\n",
            "[4 5 6 7]\n",
            "[ 8  9 10 11]\n",
            "[12 13 14 15]\n",
            "[16 17 18 19]\n",
            "[20 21 22 23]\n"
          ]
        }
      ],
      "source": [
        "for i in arr5:\n",
        "    print(i)"
      ]
    },
    {
      "cell_type": "code",
      "execution_count": 65,
      "metadata": {},
      "outputs": [
        {
          "name": "stdout",
          "output_type": "stream",
          "text": [
            "0\n",
            "1\n",
            "2\n",
            "3\n",
            "4\n",
            "5\n",
            "6\n",
            "7\n",
            "8\n",
            "9\n",
            "10\n",
            "11\n",
            "12\n",
            "13\n",
            "14\n",
            "15\n",
            "16\n",
            "17\n",
            "18\n",
            "19\n",
            "20\n",
            "21\n",
            "22\n",
            "23\n"
          ]
        }
      ],
      "source": [
        "for i in np.nditer(arr5):\n",
        "    print(i)"
      ]
    },
    {
      "cell_type": "markdown",
      "metadata": {},
      "source": [
        "Numpy operations"
      ]
    },
    {
      "cell_type": "code",
      "execution_count": 5,
      "metadata": {},
      "outputs": [
        {
          "data": {
            "text/plain": [
              "array([[False, False, False, False],\n",
              "       [ True,  True,  True,  True],\n",
              "       [ True,  True,  True,  True],\n",
              "       [ True,  True,  True,  True],\n",
              "       [ True,  True,  True,  True],\n",
              "       [ True,  True,  True,  True]])"
            ]
          },
          "execution_count": 5,
          "metadata": {},
          "output_type": "execute_result"
        }
      ],
      "source": [
        "import numpy as np\n",
        "# arr5\n",
        "arr5>3 #3 se bdi values will be true baaki false"
      ]
    },
    {
      "cell_type": "markdown",
      "metadata": {},
      "source": [
        "Ravel"
      ]
    },
    {
      "cell_type": "code",
      "execution_count": 12,
      "metadata": {},
      "outputs": [
        {
          "data": {
            "text/plain": [
              "array([ 0,  1,  2,  3,  4,  5,  6,  7,  8,  9, 10, 11, 12, 13, 14, 15, 16,\n",
              "       17, 18, 19, 20, 21, 22, 23])"
            ]
          },
          "execution_count": 12,
          "metadata": {},
          "output_type": "execute_result"
        }
      ],
      "source": [
        "arr5.ndim\n",
        "arr5.ravel() #higher dimensions ki array ko 1D mein laayega  "
      ]
    },
    {
      "cell_type": "markdown",
      "metadata": {},
      "source": [
        "Array splitting"
      ]
    },
    {
      "cell_type": "code",
      "execution_count": 14,
      "metadata": {},
      "outputs": [
        {
          "data": {
            "text/plain": [
              "array([[ 0,  1,  2,  3],\n",
              "       [ 4,  5,  6,  7],\n",
              "       [ 8,  9, 10, 11],\n",
              "       [12, 13, 14, 15],\n",
              "       [16, 17, 18, 19],\n",
              "       [20, 21, 22, 23]])"
            ]
          },
          "execution_count": 14,
          "metadata": {},
          "output_type": "execute_result"
        }
      ],
      "source": [
        "arr5"
      ]
    },
    {
      "cell_type": "code",
      "execution_count": 15,
      "metadata": {},
      "outputs": [
        {
          "data": {
            "text/plain": [
              "[array([[ 0],\n",
              "        [ 4],\n",
              "        [ 8],\n",
              "        [12],\n",
              "        [16],\n",
              "        [20]]),\n",
              " array([[ 1],\n",
              "        [ 5],\n",
              "        [ 9],\n",
              "        [13],\n",
              "        [17],\n",
              "        [21]]),\n",
              " array([[ 2],\n",
              "        [ 6],\n",
              "        [10],\n",
              "        [14],\n",
              "        [18],\n",
              "        [22]]),\n",
              " array([[ 3],\n",
              "        [ 7],\n",
              "        [11],\n",
              "        [15],\n",
              "        [19],\n",
              "        [23]])]"
            ]
          },
          "execution_count": 15,
          "metadata": {},
          "output_type": "execute_result"
        }
      ],
      "source": [
        "np.hsplit(arr5, 4)  #horizontally divide hona "
      ]
    },
    {
      "cell_type": "code",
      "execution_count": 19,
      "metadata": {},
      "outputs": [
        {
          "data": {
            "text/plain": [
              "[array([[0, 1, 2, 3]]),\n",
              " array([[4, 5, 6, 7]]),\n",
              " array([[ 8,  9, 10, 11]]),\n",
              " array([[12, 13, 14, 15]]),\n",
              " array([[16, 17, 18, 19]]),\n",
              " array([[20, 21, 22, 23]])]"
            ]
          },
          "execution_count": 19,
          "metadata": {},
          "output_type": "execute_result"
        }
      ],
      "source": [
        "np.vsplit(arr5, 6)  #vertically divide hona"
      ]
    },
    {
      "cell_type": "markdown",
      "metadata": {},
      "source": [
        "Fancy Indexing"
      ]
    },
    {
      "cell_type": "code",
      "execution_count": 21,
      "metadata": {},
      "outputs": [
        {
          "data": {
            "text/plain": [
              "array([[ 0,  1,  2,  3],\n",
              "       [ 4,  5,  6,  7],\n",
              "       [ 8,  9, 10, 11],\n",
              "       [12, 13, 14, 15],\n",
              "       [16, 17, 18, 19],\n",
              "       [20, 21, 22, 23]])"
            ]
          },
          "execution_count": 21,
          "metadata": {},
          "output_type": "execute_result"
        }
      ],
      "source": [
        "arr5"
      ]
    },
    {
      "cell_type": "code",
      "execution_count": 25,
      "metadata": {},
      "outputs": [
        {
          "data": {
            "text/plain": [
              "array([[ 0,  1,  2,  3],\n",
              "       [ 8,  9, 10, 11],\n",
              "       [16, 17, 18, 19]])"
            ]
          },
          "execution_count": 25,
          "metadata": {},
          "output_type": "execute_result"
        }
      ],
      "source": [
        "arr5[[0,2,4]]"
      ]
    },
    {
      "cell_type": "markdown",
      "metadata": {},
      "source": [
        "Indexing using boolean arrays"
      ]
    },
    {
      "cell_type": "code",
      "execution_count": 34,
      "metadata": {},
      "outputs": [
        {
          "data": {
            "text/plain": [
              "array([11, 13, 15, 17, 19, 21, 23])"
            ]
          },
          "execution_count": 34,
          "metadata": {},
          "output_type": "execute_result"
        }
      ],
      "source": [
        "# arr>10\n",
        "# arr[arr>10]\n",
        "# arr[(arr>10) & (arr%2==0)]\n",
        "arr[(arr>10) & (arr%2!=0)]\n",
        "# arr"
      ]
    },
    {
      "cell_type": "code",
      "execution_count": 36,
      "metadata": {},
      "outputs": [
        {
          "data": {
            "text/plain": [
              "array([ 0,  1,  2,  3,  4,  5,  6,  7,  8,  9, 10,  0, 12,  0, 14,  0, 16,\n",
              "        0, 18,  0, 20,  0, 22,  0])"
            ]
          },
          "execution_count": 36,
          "metadata": {},
          "output_type": "execute_result"
        }
      ],
      "source": [
        "arr[(arr>10) & (arr%2!=0)]=0 #array mein jo value greater than 10 hai aur even nhi hai uski value 0 ho jaayegi \n",
        "arr"
      ]
    },
    {
      "cell_type": "markdown",
      "metadata": {
        "id": "cj4AfQqxlNYD"
      },
      "source": [
        "**numpy.hstack() in Python**\n",
        "function is used to stack the sequence of input arrays horizontally (i.e. column wise) to make a single array."
      ]
    },
    {
      "cell_type": "code",
      "execution_count": null,
      "metadata": {
        "colab": {
          "base_uri": "https://localhost:8080/"
        },
        "id": "jZlb0O5QlI_0",
        "outputId": "69bcdc48-b48c-4582-c64e-a76d73e3a451"
      },
      "outputs": [
        {
          "name": "stdout",
          "output_type": "stream",
          "text": [
            "1st Input array : \n",
            " [1 2 3]\n",
            "2nd Input array : \n",
            " [4 5 6]\n",
            "Output horizontally stacked array:\n",
            "  [1 2 3 4 5 6]\n"
          ]
        }
      ],
      "source": [
        "# Python program explaining\n",
        "# hstack() function\n",
        "\n",
        "import numpy as np\n",
        "\n",
        "# input array\n",
        "in_arr1 = np.array([ 1, 2, 3] )\n",
        "print (\"1st Input array : \\n\", in_arr1)\n",
        "\n",
        "in_arr2 = np.array([ 4, 5, 6] )\n",
        "print (\"2nd Input array : \\n\", in_arr2)\n",
        "\n",
        "# Stacking the two arrays horizontally\n",
        "out_arr = np.hstack((in_arr1, in_arr2))\n",
        "print (\"Output horizontally stacked array:\\n \", out_arr)\n"
      ]
    },
    {
      "cell_type": "markdown",
      "metadata": {},
      "source": [
        "Plotting Graphs"
      ]
    },
    {
      "cell_type": "code",
      "execution_count": 37,
      "metadata": {},
      "outputs": [],
      "source": [
        "x=np.linspace(-40,40,100)\n",
        "y=np.sin(x)"
      ]
    },
    {
      "cell_type": "code",
      "execution_count": 38,
      "metadata": {},
      "outputs": [],
      "source": [
        "import matplotlib.pyplot as plt\n",
        "%matplotlib inline"
      ]
    },
    {
      "cell_type": "code",
      "execution_count": 39,
      "metadata": {},
      "outputs": [
        {
          "data": {
            "text/plain": [
              "[<matplotlib.lines.Line2D at 0x1a1c319ba90>]"
            ]
          },
          "execution_count": 39,
          "metadata": {},
          "output_type": "execute_result"
        },
        {
          "data": {
            "image/png": "[encoded data removed]",
            "text/plain": [
              "<Figure size 640x480 with 1 Axes>"
            ]
          },
          "metadata": {},
          "output_type": "display_data"
        }
      ],
      "source": [
        "plt.plot(x,y)"
      ]
    },
    {
      "cell_type": "code",
      "execution_count": 40,
      "metadata": {},
      "outputs": [],
      "source": [
        "y=x*x+3*x+10 #quadratic hai toh parabola aa gya "
      ]
    },
    {
      "cell_type": "code",
      "execution_count": 41,
      "metadata": {},
      "outputs": [
        {
          "data": {
            "text/plain": [
              "[<matplotlib.lines.Line2D at 0x1a1c3269c90>]"
            ]
          },
          "execution_count": 41,
          "metadata": {},
          "output_type": "execute_result"
        },
        {
          "data": {
            "image/png": "[encoded data removed]",
            "text/plain": [
              "<Figure size 640x480 with 1 Axes>"
            ]
          },
          "metadata": {},
          "output_type": "display_data"
        }
      ],
      "source": [
        "plt.plot(x,y)"
      ]
    },
    {
      "cell_type": "markdown",
      "metadata": {
        "id": "_-nWfUUZlidJ"
      },
      "source": [
        "**numpy.vstack() in python**\n",
        " function is used to stack the sequence of input arrays vertically to make a single array."
      ]
    },
    {
      "cell_type": "code",
      "execution_count": null,
      "metadata": {
        "colab": {
          "base_uri": "https://localhost:8080/"
        },
        "id": "Au74zVeVlhq2",
        "outputId": "476347eb-000a-495c-e6c9-f0ee01fe9c89"
      },
      "outputs": [
        {
          "name": "stdout",
          "output_type": "stream",
          "text": [
            "1st Input array : \n",
            " [1 2 3]\n",
            "2nd Input array : \n",
            " [4 5 6]\n",
            "Output vertically stacked array:\n",
            "  [[1 2 3]\n",
            " [4 5 6]]\n"
          ]
        }
      ],
      "source": [
        "# Python program explaining\n",
        "# vstack() function\n",
        "\n",
        "import numpy as np\n",
        "\n",
        "# input array\n",
        "in_arr1 = np.array([ 1, 2, 3] )\n",
        "print (\"1st Input array : \\n\", in_arr1)\n",
        "\n",
        "in_arr2 = np.array([ 4, 5, 6] )\n",
        "print (\"2nd Input array : \\n\", in_arr2)\n",
        "\n",
        "# Stacking the two arrays vertically\n",
        "out_arr = np.vstack((in_arr1, in_arr2))\n",
        "print (\"Output vertically stacked array:\\n \", out_arr)\n"
      ]
    },
    {
      "cell_type": "markdown",
      "metadata": {
        "id": "JP-4X2DVl0eZ"
      },
      "source": [
        "**Joining NumPy Array**\n"
      ]
    },
    {
      "cell_type": "code",
      "execution_count": null,
      "metadata": {
        "colab": {
          "base_uri": "https://localhost:8080/"
        },
        "id": "DFCF6YT2mZu8",
        "outputId": "ebe8bce3-693a-4d87-8240-9a091f9a0620"
      },
      "outputs": [
        {
          "name": "stdout",
          "output_type": "stream",
          "text": [
            "[1 2 3 4]\n"
          ]
        }
      ],
      "source": [
        "import numpy as np\n",
        "\n",
        "array_1 = np.array([1, 2])\n",
        "array_2 = np.array([3, 4])\n",
        "\n",
        "array_new = np.concatenate((array_1, array_2))\n",
        "print(array_new)\n"
      ]
    },
    {
      "cell_type": "markdown",
      "metadata": {
        "id": "jBbFCrwbmqnp"
      },
      "source": [
        "**numpy.block()numpy.block is used to create nd-arrays from nested blocks of lists.**"
      ]
    },
    {
      "cell_type": "code",
      "execution_count": null,
      "metadata": {
        "colab": {
          "base_uri": "https://localhost:8080/"
        },
        "id": "aBKpylDfmndK",
        "outputId": "412f9dbc-bc0e-4dca-a7c1-1171cd441cc2"
      },
      "outputs": [
        {
          "name": "stdout",
          "output_type": "stream",
          "text": [
            "[[1 1 2 2 2]\n",
            " [1 1 2 2 2]\n",
            " [3 3 4 4 4]\n",
            " [3 3 4 4 4]\n",
            " [3 3 4 4 4]]\n"
          ]
        }
      ],
      "source": [
        "import numpy as np\n",
        "\n",
        "block_1 = np.array([[1, 1], [1, 1]])\n",
        "block_2 = np.array([[2, 2, 2], [2, 2, 2]])\n",
        "block_3 = np.array([[3, 3], [3, 3], [3, 3]])\n",
        "block_4 = np.array([[4, 4, 4], [4, 4, 4], [4, 4, 4]])\n",
        "\n",
        "block_new = np.block([\n",
        "\t[block_1, block_2],\n",
        "\t[block_3, block_4]\n",
        "])\n",
        "\n",
        "print(block_new)\n"
      ]
    },
    {
      "cell_type": "markdown",
      "metadata": {
        "id": "3qtgLGM9nRpq"
      },
      "source": [
        "**Find the union of two NumPy arrays**"
      ]
    },
    {
      "cell_type": "code",
      "execution_count": null,
      "metadata": {
        "colab": {
          "base_uri": "https://localhost:8080/"
        },
        "id": "D9110RawnRCF",
        "outputId": "1e2e93f1-5108-4aba-c4f9-ceeddb6ac1a5"
      },
      "outputs": [
        {
          "name": "stdout",
          "output_type": "stream",
          "text": [
            "array1  [10 20 30 40]\n",
            "array2  [20 40 60 80]\n",
            "Union of two arrays : [10 20 30 40 60 80]\n"
          ]
        }
      ],
      "source": [
        "# import libraries\n",
        "import numpy as np\n",
        "\n",
        "\n",
        "arr1 = np.array([10, 20, 30, 40])\n",
        "print(\"array1 \", arr1)\n",
        "\n",
        "arr2 = np.array([20, 40, 60, 80])\n",
        "print(\"array2 \", arr2)\n",
        "\n",
        "# print union of the two arrays\n",
        "print(\"Union of two arrays :\", np.union1d(arr1, arr2))\n"
      ]
    },
    {
      "cell_type": "markdown",
      "metadata": {
        "id": "TLrqvAmjngpi"
      },
      "source": [
        "**Find unique rows in a NumPy array**"
      ]
    },
    {
      "cell_type": "code",
      "execution_count": null,
      "metadata": {
        "colab": {
          "base_uri": "https://localhost:8080/"
        },
        "id": "aFa_4WDRnbxp",
        "outputId": "0d00599b-8278-4510-9539-7f7119687318"
      },
      "outputs": [
        {
          "name": "stdout",
          "output_type": "stream",
          "text": [
            "Original Array :\n",
            "[[11 11 12 11]\n",
            " [13 11 12 11]\n",
            " [16 11 12 11]\n",
            " [11 11 12 11]]\n",
            "Unique Rows:\n",
            "[11 12 13 16]\n"
          ]
        }
      ],
      "source": [
        "# import library\n",
        "import numpy as np\n",
        "\n",
        "# Create a 2D numpy array\n",
        "arr2D = np.array([[11, 11, 12, 11],\n",
        "\t\t\t\t\t[13, 11, 12, 11],\n",
        "\t\t\t\t\t[16, 11, 12, 11],\n",
        "\t\t\t\t\t[11, 11, 12, 11]])\n",
        "\n",
        "print('Original Array :' ,\n",
        "\tarr2D, sep = '\\n')\n",
        "\n",
        "uniqueRows = np.unique(arr2D)\n",
        "\n",
        "\n",
        "# print the output result\n",
        "print('Unique Rows:',\n",
        "\tuniqueRows, sep = '\\n')\n"
      ]
    },
    {
      "cell_type": "code",
      "execution_count": null,
      "metadata": {
        "colab": {
          "base_uri": "https://localhost:8080/"
        },
        "id": "EyyagOR6n86r",
        "outputId": "45ed2ccf-d67e-456b-ba24-93d55c69f4ce"
      },
      "outputs": [
        {
          "name": "stdout",
          "output_type": "stream",
          "text": [
            "[1 2 3 4 6 8]\n"
          ]
        }
      ],
      "source": [
        "#Python | Numpy np.unique() method\n",
        "# import numpy\n",
        "import numpy as np\n",
        "\n",
        "a = [1, 2, 2, 4, 3, 6, 4, 8]\n",
        "\n",
        "# using np.unique() method\n",
        "gfg = np.unique(a)\n",
        "\n",
        "print(gfg)\n"
      ]
    },
    {
      "cell_type": "code",
      "execution_count": null,
      "metadata": {
        "colab": {
          "base_uri": "https://localhost:8080/"
        },
        "id": "GFR7OGacoIVy",
        "outputId": "a13fa460-4347-4a78-a19d-17b9463a9283"
      },
      "outputs": [
        {
          "name": "stdout",
          "output_type": "stream",
          "text": [
            "[ 1.   3.6  5.  10.  10.2 14.8 15.  21.4]\n"
          ]
        }
      ],
      "source": [
        "# import numpy\n",
        "import numpy as np\n",
        "\n",
        "a = [[10.2, 21.4, 3.6, 14.8], [1.0, 5.0, 10.0, 15.0]]\n",
        "\n",
        "# using np.unique() method\n",
        "gfg = np.unique(a)\n",
        "\n",
        "print(gfg)\n"
      ]
    },
    {
      "cell_type": "markdown",
      "metadata": {
        "id": "SbWj9504oQX1"
      },
      "source": [
        "**numpy.trim_zeros() in Python**\n",
        "numpy.trim_zeros function is used to trim the leading and/or trailing zeros from a 1-D array or sequence."
      ]
    },
    {
      "cell_type": "code",
      "execution_count": null,
      "metadata": {
        "colab": {
          "base_uri": "https://localhost:8080/"
        },
        "id": "YolIdiWooYi-",
        "outputId": "eeee27b7-b40f-4129-af92-53d0739603e4"
      },
      "outputs": [
        {
          "name": "stdout",
          "output_type": "stream",
          "text": [
            "[ 1  5  7  0  6  2  9  0 10]\n"
          ]
        }
      ],
      "source": [
        "import numpy as g\n",
        "\n",
        "gfg = g.array((0, 0, 0, 0, 1, 5, 7, 0, 6, 2, 9, 0, 10, 0, 0))\n",
        "\n",
        "# without trim parameter\n",
        "# returns an array without leading and trailing zeros\n",
        "\n",
        "res = g.trim_zeros(gfg)\n",
        "print(res)\n"
      ]
    },
    {
      "cell_type": "markdown",
      "metadata": {
        "id": "LoDL6ZgJP99e"
      },
      "source": [
        "**Numpy dstack() method**\n",
        "With the help of numpy.dstack() method, we can get the combined array index by index and store like a stack by using numpy.dstack() method."
      ]
    },
    {
      "cell_type": "code",
      "execution_count": null,
      "metadata": {
        "colab": {
          "base_uri": "https://localhost:8080/"
        },
        "id": "mTAED4USPiYE",
        "outputId": "317fae44-3916-411c-be4d-e68fea94cd7f"
      },
      "outputs": [
        {
          "name": "stdout",
          "output_type": "stream",
          "text": [
            "[[[1 4]\n",
            "  [2 5]\n",
            "  [3 6]]]\n"
          ]
        }
      ],
      "source": [
        "# import numpy\n",
        "import numpy as np\n",
        "\n",
        "gfg1 = np.array([1, 2, 3])\n",
        "gfg2 = np.array([4, 5, 6])\n",
        "\n",
        "# using numpy.dstack() method\n",
        "print(np.dstack((gfg1, gfg2)))\n"
      ]
    },
    {
      "cell_type": "markdown",
      "metadata": {
        "id": "ScSssM0wSFn0"
      },
      "source": [
        "**Matrix manipulation in Python**\n",
        "In python matrix can be implemented as 2D list or 2D Array. Forming matrix from latter, gives the additional functionalities for performing various operations in matrix. These operations and array are defines in module “numpy“.\n",
        "\n",
        "Operation on Matrix :\n",
        "\n",
        "1. add() :- This function is used to perform element wise matrix addition.\n",
        "2. subtract() :- This function is used to perform element wise matrix subtraction.\n",
        "3. divide() :- This function is used to perform element wise matrix division."
      ]
    },
    {
      "cell_type": "code",
      "execution_count": null,
      "metadata": {
        "colab": {
          "base_uri": "https://localhost:8080/"
        },
        "id": "uJ3GMImhSEjB",
        "outputId": "da4b6a54-b3c6-4f51-ef2c-7d6c9d33e9af"
      },
      "outputs": [
        {
          "name": "stdout",
          "output_type": "stream",
          "text": [
            "The element wise addition of matrix is : \n",
            "[[ 8 10]\n",
            " [13 15]]\n",
            "The element wise subtraction of matrix is : \n",
            "[[-6 -6]\n",
            " [-5 -5]]\n",
            "The element wise division of matrix is : \n",
            "[[0.14285714 0.25      ]\n",
            " [0.44444444 0.5       ]]\n"
          ]
        }
      ],
      "source": [
        "# Python code to demonstrate matrix operations\n",
        "# add(), subtract() and divide()\n",
        "\n",
        "# importing numpy for matrix operations\n",
        "import numpy\n",
        "\n",
        "# initializing matrices\n",
        "x = numpy.array([[1, 2], [4, 5]])\n",
        "y = numpy.array([[7, 8], [9, 10]])\n",
        "\n",
        "# using add() to add matrices\n",
        "print (\"The element wise addition of matrix is : \")\n",
        "print (numpy.add(x,y))\n",
        "\n",
        "# using subtract() to subtract matrices\n",
        "print (\"The element wise subtraction of matrix is : \")\n",
        "print (numpy.subtract(x,y))\n",
        "\n",
        "# using divide() to divide matrices\n",
        "print (\"The element wise division of matrix is : \")\n",
        "print (numpy.divide(x,y))\n"
      ]
    },
    {
      "cell_type": "code",
      "execution_count": null,
      "metadata": {
        "id": "rG3eL2-HSkRL"
      },
      "outputs": [],
      "source": []
    },
    {
      "cell_type": "code",
      "execution_count": 8,
      "metadata": {
        "colab": {
          "base_uri": "https://localhost:8080/"
        },
        "id": "aCKreResSbao",
        "outputId": "226331e0-2ac4-4fd7-c72f-ab0a96e8cbbc"
      },
      "outputs": [
        {
          "name": "stdout",
          "output_type": "stream",
          "text": [
            "The product of matrices is : \n",
            "[[ 9 10 11]\n",
            " [39 44 49]\n",
            " [69 78 87]]\n"
          ]
        }
      ],
      "source": [
        "# Python code to demonstrate matrix operations\n",
        "# multiply() and dot()\n",
        "\n",
        "# importing numpy for matrix operations\n",
        "import numpy as np \n",
        "\n",
        "# initializing matrices\n",
        "# x = np.array([[1, 2], [4, 5]])\n",
        "# y = np.array([[7, 8], [9, 10]])\n",
        "\n",
        "x= np.arange(6).reshape(3,2)\n",
        "y= np.arange(6,12).reshape(2,3)\n",
        "\n",
        "# using multiply() to multiply matrices element wise\n",
        "# print (\"The element wise multiplication of matrix is : \")\n",
        "# print (np.multiply(x,y))\n",
        "\n",
        "# using dot() to multiply matrices\n",
        "print (\"The product of matrices is : \")\n",
        "print (np.dot(x,y))\n"
      ]
    },
    {
      "cell_type": "code",
      "execution_count": null,
      "metadata": {
        "colab": {
          "base_uri": "https://localhost:8080/"
        },
        "id": "zGqWKYGzSlL9",
        "outputId": "9be33007-72d5-49b3-fc14-dad6cc89897e"
      },
      "outputs": [
        {
          "name": "stdout",
          "output_type": "stream",
          "text": [
            "The element wise square root is : \n",
            "[[1.         1.41421356]\n",
            " [2.         2.23606798]]\n",
            "The summation of all matrix element is : \n",
            "34\n",
            "The column wise summation of all matrix is : \n",
            "[16 18]\n",
            "The row wise summation of all matrix is : \n",
            "[15 19]\n",
            "The transpose of given matrix is : \n",
            "[[1 4]\n",
            " [2 5]]\n"
          ]
        }
      ],
      "source": [
        "# Python code to demonstrate matrix operations\n",
        "# sqrt(), sum() and \"T\"\n",
        "\n",
        "# importing numpy for matrix operations\n",
        "import numpy as np \n",
        "\n",
        "# initializing matrices\n",
        "x = np.array([[1, 2], [4, 5]])\n",
        "y = np.array([[7, 8], [9, 10]])\n",
        "\n",
        "# using sqrt() to print the square root of matrix\n",
        "print (\"The element wise square root is : \")\n",
        "print (np.sqrt(x))\n",
        "\n",
        "# using sum() to print summation of all elements of matrix\n",
        "print (\"The summation of all matrix element is : \")\n",
        "print (np.sum(y))\n",
        "\n",
        "# using sum(axis=0) print summation of each column of matrix\n",
        "print (\"The column wise summation of all matrix is : \")\n",
        "print (np.sum(y,axis=0))\n",
        "\n",
        "# using sum(axis=1) print summation of each row of matrix\n",
        "print (\"The row wise summation of all matrix is : \")\n",
        "print (np.sum(y,axis=1))\n",
        "\n",
        "# using \"T\" to transpose the matrix\n",
        "print (\"The transpose of given matrix is : \")\n",
        "print (x.T)\n"
      ]
    },
    {
      "cell_type": "markdown",
      "metadata": {
        "id": "HwS2SZWDfs6C"
      },
      "source": [
        "**Approach: Questions**\n",
        "Define matrices A and B.\n",
        "Get the number of rows and columns of the matrices using the len() function.\n",
        "Initialize matrices C, D, and E with zeros using nested loops or list comprehension.\n",
        "Use nested loops or list comprehension to perform the element-wise addition, subtraction, and division of matrices.\n",
        "Print the resulting matrices C, D, and E."
      ]
    },
    {
      "cell_type": "code",
      "execution_count": null,
      "metadata": {
        "id": "umBioHHcS4jD"
      },
      "outputs": [],
      "source": [
        "A = [[1,2],[4,5]]\n",
        "B = [[7,8],[9,10]]\n",
        "rows = len(A)\n",
        "cols = len(A[0])\n",
        "\n",
        "# Element wise addition\n",
        "C = [[0 for i in range(cols)] for j in range(rows)]\n",
        "for i in range(rows):\n",
        "    for j in range(cols):\n",
        "        C[i][j] = A[i][j] + B[i][j]\n",
        "print(\"Addition of matrices: \\n\", C)\n",
        "\n",
        "# Element wise subtraction\n",
        "D = [[0 for i in range(cols)] for j in range(rows)]\n",
        "for i in range(rows):\n",
        "    for j in range(cols):\n",
        "        D[i][j] = A[i][j] - B[i][j]\n",
        "print(\"Subtraction of matrices: \\n\", D)\n",
        "\n",
        "# Element wise division\n",
        "E = [[0 for i in range(cols)] for j in range(rows)]\n",
        "for i in range(rows):\n",
        "    for j in range(cols):\n",
        "        E[i][j] = A[i][j] / B[i][j]\n",
        "print(\"Division of matrices: \\n\", E)\n"
      ]
    },
    {
      "cell_type": "markdown",
      "metadata": {
        "id": "EsnMtoxfgFtE"
      },
      "source": [
        "**empty() function**\n",
        "numpy.matlib.empty() is another function for doing matrix operations in numpy.It returns a new matrix of given shape and type, without initializing entries."
      ]
    },
    {
      "cell_type": "code",
      "execution_count": null,
      "metadata": {
        "colab": {
          "base_uri": "https://localhost:8080/"
        },
        "id": "yEsIh3OngEi6",
        "outputId": "dc0e2c4f-c9cd-4e3f-9184-24e52f208478"
      },
      "outputs": [
        {
          "name": "stdout",
          "output_type": "stream",
          "text": [
            "Output matrix :  [[4.9e-324 2.0e-323 9.9e-324]\n",
            " [2.5e-323 1.5e-323 3.0e-323]]\n"
          ]
        }
      ],
      "source": [
        "# Python program explaining\n",
        "# numpy.matlib.empty() function\n",
        "\n",
        "# importing numpy and matrix library\n",
        "import numpy as geek\n",
        "import numpy.matlib\n",
        "\n",
        "# desired output matrix\n",
        "out_mat = geek.matlib.empty((2, 3))\n",
        "print (\"Output matrix : \", out_mat)\n"
      ]
    },
    {
      "cell_type": "markdown",
      "metadata": {
        "id": "UBPaxiGlgzsm"
      },
      "source": [
        "** zeros() function**\n",
        "\n",
        "numpy.matlib.zeros() is another function for doing matrix operations in numpy. It returns a matrix of given shape and type, filled with zeros."
      ]
    },
    {
      "cell_type": "code",
      "execution_count": null,
      "metadata": {
        "colab": {
          "base_uri": "https://localhost:8080/"
        },
        "id": "7RAMDoq8fseT",
        "outputId": "99956013-dc45-48a6-de17-40c56db57a2e"
      },
      "outputs": [
        {
          "name": "stdout",
          "output_type": "stream",
          "text": [
            "Output matrix :  [[0. 0. 0. 0.]\n",
            " [0. 0. 0. 0.]\n",
            " [0. 0. 0. 0.]]\n"
          ]
        }
      ],
      "source": [
        "# Python program explaining\n",
        "# numpy.matlib.zeros() function\n",
        "\n",
        "# importing matrix library from numpy\n",
        "import numpy as geek\n",
        "import numpy.matlib\n",
        "\n",
        "# desired 3 x 4 zero output matrix\n",
        "out_mat = geek.matlib.zeros((3, 4))\n",
        "print (\"Output matrix : \", out_mat)\n"
      ]
    },
    {
      "cell_type": "markdown",
      "metadata": {
        "id": "PY9xd4fPh7u7"
      },
      "source": [
        "**ones() function**\n",
        "numpy.matlib.ones() is another function for doing matrix operations in numpy. It returns a matrix of given shape and type, filled with ones."
      ]
    },
    {
      "cell_type": "code",
      "execution_count": null,
      "metadata": {
        "colab": {
          "base_uri": "https://localhost:8080/"
        },
        "id": "Ih2Or80kh1kc",
        "outputId": "f3b82cbb-ea51-4cb9-9b92-1ed98143a9b0"
      },
      "outputs": [
        {
          "name": "stdout",
          "output_type": "stream",
          "text": [
            "Output matrix :  [[1. 1. 1. 1.]\n",
            " [1. 1. 1. 1.]\n",
            " [1. 1. 1. 1.]]\n"
          ]
        }
      ],
      "source": [
        "# Python program explaining\n",
        "# numpy.matlib.ones() function\n",
        "\n",
        "# importing matrix library from numpy\n",
        "import numpy as g\n",
        "import numpy.matlib\n",
        "\n",
        "# desired 3 x 4 output matrix\n",
        "out_mat = geek.matlib.ones((3, 4))\n",
        "print (\"Output matrix : \", out_mat)\n"
      ]
    },
    {
      "cell_type": "markdown",
      "metadata": {
        "id": "o0eaHIS2iv6r"
      },
      "source": [
        "**numpy matrix operations | eye() function**\n",
        "numpy.matlib.eye() is another function for doing matrix operations in numpy. It returns a matrix with ones on the diagonal and zeros elsewhere."
      ]
    },
    {
      "cell_type": "code",
      "execution_count": null,
      "metadata": {
        "colab": {
          "base_uri": "https://localhost:8080/"
        },
        "id": "nW4aGdfJi_ER",
        "outputId": "e14e56e4-b4d3-4181-914d-dabd560f8e75"
      },
      "outputs": [
        {
          "name": "stdout",
          "output_type": "stream",
          "text": [
            "Output matrix :  [[1. 0. 0.]\n",
            " [0. 1. 0.]\n",
            " [0. 0. 1.]]\n"
          ]
        }
      ],
      "source": [
        "# Python program explaining\n",
        "# numpy.matlib.eye() function\n",
        "\n",
        "# importing matrix library from numpy\n",
        "import numpy as geek\n",
        "import numpy.matlib\n",
        "\n",
        "# desired 3 x 3 output matrix\n",
        "out_mat = geek.matlib.eye(3, k = 0)\n",
        "print (\"Output matrix : \", out_mat)\n"
      ]
    },
    {
      "cell_type": "markdown",
      "metadata": {
        "id": "w1jvLDrmjRp1"
      },
      "source": [
        "**numpy matrix operations | identity() function**"
      ]
    },
    {
      "cell_type": "code",
      "execution_count": null,
      "metadata": {
        "id": "sEuScGFHg9S5"
      },
      "outputs": [],
      "source": [
        "# Python program explaining\n",
        "# numpy.matlib.identity() function\n",
        "\n",
        "# importing matrix library from numpy\n",
        "import numpy as geek\n",
        "import numpy.matlib\n",
        "\n",
        "# desired 3 x 3 output square identity matrix\n",
        "out_mat = geek.matlib.identity(3)\n",
        "print (\"Output matrix : \", out_mat)\n"
      ]
    },
    {
      "cell_type": "markdown",
      "metadata": {
        "id": "av6sJ-Jtj_4n"
      },
      "source": [
        "**Adding and Subtracting Matrices in Python**\n"
      ]
    },
    {
      "cell_type": "code",
      "execution_count": null,
      "metadata": {
        "colab": {
          "base_uri": "https://localhost:8080/"
        },
        "id": "EKQrWfqfj6wc",
        "outputId": "b6c461f4-6711-4c5f-f5d8-f8b826be76a1"
      },
      "outputs": [
        {
          "name": "stdout",
          "output_type": "stream",
          "text": [
            "Printing elements of first matrix\n",
            "[[1 2]\n",
            " [3 4]]\n",
            "Printing elements of second matrix\n",
            "[[4 5]\n",
            " [6 7]]\n",
            "Addition of two matrix\n",
            "[[ 5  7]\n",
            " [ 9 11]]\n"
          ]
        }
      ],
      "source": [
        "# importing numpy as np\n",
        "import numpy as np\n",
        "\n",
        "\n",
        "# creating first matrix\n",
        "A = np.array([[1, 2], [3, 4]])\n",
        "\n",
        "# creating second matrix\n",
        "B = np.array([[4, 5], [6, 7]])\n",
        "\n",
        "print(\"Printing elements of first matrix\")\n",
        "print(A)\n",
        "print(\"Printing elements of second matrix\")\n",
        "print(B)\n",
        "\n",
        "# adding two matrix\n",
        "print(\"Addition of two matrix\")\n",
        "print(np.add(A, B))\n"
      ]
    },
    {
      "cell_type": "code",
      "execution_count": null,
      "metadata": {
        "colab": {
          "base_uri": "https://localhost:8080/"
        },
        "id": "LaBVV1obkMug",
        "outputId": "77f6d674-f068-48c5-9ee3-e2a720f4be2d"
      },
      "outputs": [
        {
          "name": "stdout",
          "output_type": "stream",
          "text": [
            "Printing elements of first matrix\n",
            "[[1 2]\n",
            " [3 4]]\n",
            "Printing elements of second matrix\n",
            "[[4 5]\n",
            " [6 7]]\n",
            "Subtraction of two matrix\n",
            "[[-3 -3]\n",
            " [-3 -3]]\n"
          ]
        }
      ],
      "source": [
        "#Subtracting elements of matrices\n",
        "# importing numpy as np\n",
        "import numpy as np\n",
        "\n",
        "\n",
        "# creating first matrix\n",
        "A = np.array([[1, 2], [3, 4]])\n",
        "\n",
        "# creating second matrix\n",
        "B = np.array([[4, 5], [6, 7]])\n",
        "\n",
        "print(\"Printing elements of first matrix\")\n",
        "print(A)\n",
        "print(\"Printing elements of second matrix\")\n",
        "print(B)\n",
        "\n",
        "# subtracting two matrix\n",
        "print(\"Subtraction of two matrix\")\n",
        "print(np.subtract(A, B))\n"
      ]
    },
    {
      "cell_type": "markdown",
      "metadata": {
        "id": "96i2bDNnkah8"
      },
      "source": [
        "**The given task is to subtract two matrices in Python and print their elements. Approach 2 uses nested loops to subtract the two matrices. It prints the elements of both matrices using nested loops and then subtracts the corresponding elements of the matrices to get the result matrix.**\n",
        "\n",
        "1. Define two matrices matrix1 and matrix2.\n",
        "2.Print the elements of matrix1 and matrix2 using nested loops.\n",
        "3. Define an empty matrix result of the same size as matrix1.\n",
        "4. Subtract the corresponding elements of matrix1 and matrix2 using nested loops and store the result in the result matrix.\n",
        "5. Print the result matrix."
      ]
    },
    {
      "cell_type": "code",
      "execution_count": null,
      "metadata": {
        "colab": {
          "base_uri": "https://localhost:8080/"
        },
        "id": "HVVOmR6UkdTO",
        "outputId": "ae5c3152-9495-4472-8b60-cc1a04a2f097"
      },
      "outputs": [
        {
          "name": "stdout",
          "output_type": "stream",
          "text": [
            "Printing elements of first matrix\n",
            "1 2 \n",
            "3 4 \n",
            "Printing elements of second matrix\n",
            "4 5 \n",
            "6 7 \n",
            "Subtraction of two matrix\n",
            "-3 -3 \n",
            "-3 -3 \n"
          ]
        }
      ],
      "source": [
        "# Input matrices\n",
        "matrix1 = [[1, 2], [3, 4]]\n",
        "matrix2 = [[4, 5], [6, 7]]\n",
        "\n",
        "# Printing elements of matrix1\n",
        "print(\"Printing elements of first matrix\")\n",
        "for row in matrix1:\n",
        "\tfor element in row:\n",
        "\t\tprint(element, end=\" \")\n",
        "\tprint()\n",
        "\n",
        "# Printing elements of matrix2\n",
        "print(\"Printing elements of second matrix\")\n",
        "for row in matrix2:\n",
        "\tfor element in row:\n",
        "\t\tprint(element, end=\" \")\n",
        "\tprint()\n",
        "\n",
        "# Subtracting two matrices\n",
        "result = [[0, 0], [0, 0]]\n",
        "for i in range(len(matrix1)):\n",
        "\tfor j in range(len(matrix1[0])):\n",
        "\t\tresult[i][j] = matrix1[i][j] - matrix2[i][j]\n",
        "\n",
        "# Printing the result\n",
        "print(\"Subtraction of two matrix\")\n",
        "for row in result:\n",
        "\tfor element in row:\n",
        "\t\tprint(element, end=\" \")\n",
        "\tprint()\n"
      ]
    },
    {
      "cell_type": "markdown",
      "metadata": {
        "id": "J6XPpWQ9kuGv"
      },
      "source": [
        "**Python Program to Add Two Matrices**"
      ]
    },
    {
      "cell_type": "code",
      "execution_count": null,
      "metadata": {
        "colab": {
          "base_uri": "https://localhost:8080/"
        },
        "id": "KUoikJ_jkpiz",
        "outputId": "eff8d2d3-8758-4447-ff2f-b3d262faf3f1"
      },
      "outputs": [
        {
          "name": "stdout",
          "output_type": "stream",
          "text": [
            "[10, 10, 10]\n",
            "[10, 10, 10]\n",
            "[10, 10, 10]\n"
          ]
        }
      ],
      "source": [
        "# Program to add two matrices using nested loop\n",
        "\n",
        "X = [[1,2,3],\n",
        "    [4 ,5,6],\n",
        "    [7 ,8,9]]\n",
        "\n",
        "Y = [[9,8,7],\n",
        "    [6,5,4],\n",
        "    [3,2,1]]\n",
        "\n",
        "\n",
        "result = [[0,0,0],\n",
        "        [0,0,0],\n",
        "        [0,0,0]]\n",
        "\n",
        "# iterate through rows\n",
        "for i in range(len(X)):\n",
        "# iterate through columns\n",
        "    for j in range(len(X[0])):\n",
        "        result[i][j] = X[i][j] + Y[i][j]\n",
        "\n",
        "for r in result:\n",
        "    print(r)\n"
      ]
    },
    {
      "cell_type": "code",
      "execution_count": null,
      "metadata": {
        "colab": {
          "base_uri": "https://localhost:8080/"
        },
        "collapsed": true,
        "id": "T3z87g2Tk0OK",
        "outputId": "372078f9-abb9-413f-999f-7d9c8d85af61"
      },
      "outputs": [
        {
          "name": "stdout",
          "output_type": "stream",
          "text": [
            "[114 160  60  27]\n",
            "[74 97 73 14]\n",
            "[119 157 112  23]\n"
          ]
        }
      ],
      "source": [
        "\n",
        "\n",
        "# Program to multiply two matrices (vectorized implementation)\n",
        "import numpy as np\n",
        "# take a 3x3 matrix\n",
        "A = [[12, 7, 3],\n",
        "    [4, 5, 6],\n",
        "    [7, 8, 9]]\n",
        "\n",
        "# take a 3x4 matrix\n",
        "B = [[5, 8, 1, 2],\n",
        "    [6, 7, 3, 0],\n",
        "    [4, 5, 9, 1]]\n",
        "\n",
        "# result will be 3x4\n",
        "\n",
        "result= [[0,0,0,0],\n",
        "        [0,0,0,0],\n",
        "        [0,0,0,0]]\n",
        "\n",
        "result = np.dot(A,B)\n",
        "\n",
        "for r in result:\n",
        "    print(r)\n"
      ]
    },
    {
      "cell_type": "markdown",
      "metadata": {
        "id": "Bi4re1n-lGiX"
      },
      "source": [
        "**Python | Matrix Product**"
      ]
    },
    {
      "cell_type": "code",
      "execution_count": null,
      "metadata": {
        "colab": {
          "base_uri": "https://localhost:8080/"
        },
        "id": "HJ43L9lGlBDm",
        "outputId": "44988f8f-a377-487f-facb-17bd8a812370"
      },
      "outputs": [
        {
          "name": "stdout",
          "output_type": "stream",
          "text": [
            "The original list : [[1, 4, 5], [7, 3], [4], [46, 7, 3]]\n",
            "The total element product in lists is : 1622880\n"
          ]
        }
      ],
      "source": [
        "# Python3 code to demonstrate\n",
        "# Matrix Product\n",
        "# Using list comprehension + loop\n",
        "\n",
        "# getting Product\n",
        "\n",
        "\n",
        "def prod(val):\n",
        "\tres = 1\n",
        "\tfor ele in val:\n",
        "\t\tres *= ele\n",
        "\treturn res\n",
        "\n",
        "\n",
        "# initializing list\n",
        "test_list = [[1, 4, 5], [7, 3], [4], [46, 7, 3]]\n",
        "\n",
        "# printing original list\n",
        "print(\"The original list : \" + str(test_list))\n",
        "\n",
        "# using list comprehension + loop\n",
        "# Matrix Product\n",
        "res = prod([ele for sub in test_list for ele in sub])\n",
        "\n",
        "# print result\n",
        "print(\"The total element product in lists is : \" + str(res))\n"
      ]
    },
    {
      "cell_type": "markdown",
      "metadata": {
        "id": "RaOEbh4_lL-E"
      },
      "source": [
        "**Transpose a matrix in Single line in Python**"
      ]
    },
    {
      "cell_type": "code",
      "execution_count": null,
      "metadata": {
        "colab": {
          "base_uri": "https://localhost:8080/"
        },
        "id": "6484n-RPllbQ",
        "outputId": "077a2d17-eada-4c01-ef89-8b12877fe83e"
      },
      "outputs": [
        {
          "name": "stdout",
          "output_type": "stream",
          "text": [
            "[[1, 2, 3], [4, 5, 6]]\n",
            "\n",
            "\n",
            "[[1 4]\n",
            " [2 5]\n",
            " [3 6]]\n"
          ]
        }
      ],
      "source": [
        "import numpy\n",
        "matrix = [[1, 2, 3], [4, 5, 6]]\n",
        "print(matrix)\n",
        "print(\"\\n\")\n",
        "print(numpy.transpose(matrix))\n"
      ]
    },
    {
      "cell_type": "markdown",
      "metadata": {
        "id": "UyXEY8nIl8SM"
      },
      "source": [
        "Matrix creation of n*n **bold text**"
      ]
    },
    {
      "cell_type": "code",
      "execution_count": null,
      "metadata": {
        "colab": {
          "base_uri": "https://localhost:8080/"
        },
        "id": "TA4uysofmL74",
        "outputId": "7cdc88dd-50a3-4dbe-e3b3-5965291de14f"
      },
      "outputs": [
        {
          "name": "stdout",
          "output_type": "stream",
          "text": [
            "The dimension : 4\n",
            "The created matrix of N * N: [[1, 2, 3, 4], [5, 6, 7, 8], [9, 10, 11, 12], [13, 14, 15, 16]]\n"
          ]
        }
      ],
      "source": [
        "# Python3 code to demonstrate\n",
        "# matrix creation of n * n\n",
        "# using list comprehension\n",
        "\n",
        "# initializing N\n",
        "N = 4\n",
        "\n",
        "# printing dimension\n",
        "print(\"The dimension : \" + str(N))\n",
        "\n",
        "# using list comprehension\n",
        "# matrix creation of n * n\n",
        "res = [list(range(1 + N * i, 1 + N * (i + 1)))\n",
        "\t\t\t\t\t\t\tfor i in range(N)]\n",
        "\n",
        "# print result\n",
        "print(\"The created matrix of N * N: \" + str(res))\n"
      ]
    },
    {
      "cell_type": "markdown",
      "metadata": {
        "id": "ssOFIJayntb7"
      },
      "source": [
        "https://www.javatpoint.com/python-bitwise-operators"
      ]
    },
    {
      "cell_type": "markdown",
      "metadata": {
        "id": "KqoI2TH9nwYw"
      },
      "source": [
        "**Numpy | Binary Operations**\n",
        "Binary operators acts on bits and performs bit by bit operation. Binary operation is simply a rule for combining two values to create a new value."
      ]
    },
    {
      "cell_type": "code",
      "execution_count": null,
      "metadata": {
        "colab": {
          "base_uri": "https://localhost:8080/"
        },
        "id": "_upCbpymnsPB",
        "outputId": "583b2cda-8fdc-4dfe-9544-98daa79460e8"
      },
      "outputs": [
        {
          "name": "stdout",
          "output_type": "stream",
          "text": [
            "Input  number1 :  10\n",
            "Input  number2 :  11\n",
            "bitwise_and of 10 and 11 :  10\n"
          ]
        }
      ],
      "source": [
        "# Python program explaining\n",
        "# bitwise_and() function\n",
        "\n",
        "import numpy as g\n",
        "in_num1 = 10\n",
        "in_num2 = 11\n",
        "\n",
        "print (\"Input  number1 : \", in_num1)\n",
        "print (\"Input  number2 : \", in_num2)\n",
        "\n",
        "out_num = g.bitwise_and(in_num1, in_num2)\n",
        "print (\"bitwise_and of 10 and 11 : \", out_num)\n"
      ]
    },
    {
      "cell_type": "code",
      "execution_count": null,
      "metadata": {
        "id": "-UugqZsVoKd9"
      },
      "outputs": [],
      "source": [
        "# Python program explaining\n",
        "# bitwise_and() function\n",
        "\n",
        "import numpy as g\n",
        "in_num1 = 10\n",
        "in_num2 = 11\n",
        "\n",
        "print (\"Input  number1 : \", in_num1)\n",
        "print (\"Input  number2 : \", in_num2)\n",
        "\n",
        "out_num = g.bitwise_and(in_num1, in_num2)\n",
        "print (\"bitwise_and of 10 and 11 : \", out_num)\n"
      ]
    },
    {
      "cell_type": "code",
      "execution_count": null,
      "metadata": {
        "colab": {
          "base_uri": "https://localhost:8080/"
        },
        "id": "5MbEypX5oaYH",
        "outputId": "f266fa08-0049-4318-8e7b-336197fa612e"
      },
      "outputs": [
        {
          "name": "stdout",
          "output_type": "stream",
          "text": [
            "Input  number1 :  10\n",
            "Input  number2 :  11\n",
            "bitwise_or of 10 and 11 :  11\n"
          ]
        }
      ],
      "source": [
        "# Python program explaining\n",
        "# bitwise_or() function\n",
        "\n",
        "import numpy as g\n",
        "in_num1 = 10\n",
        "in_num2 = 11\n",
        "\n",
        "print (\"Input  number1 : \", in_num1)\n",
        "print (\"Input  number2 : \", in_num2)\n",
        "\n",
        "out_num = g.bitwise_or(in_num1, in_num2)\n",
        "print (\"bitwise_or of 10 and 11 : \", out_num)\n"
      ]
    },
    {
      "cell_type": "markdown",
      "metadata": {
        "id": "nB8aLBnxonrY"
      },
      "source": [
        "**Numpy | Mathematical Function**\n",
        "FUNCTION\tDESCRIPTION\n",
        "tan()\tCompute tangent element-wise.\n",
        "arcsin()\tInverse sine, element-wise.\n",
        "arccos()\tTrigonometric inverse cosine, element-wise.\n",
        "arctan()\tTrigonometric inverse tangent, element-wise.\n",
        "arctan2()\tElement-wise arc tangent of x1/x2 choosing the quadrant correctly.\n",
        "degrees()\tConvert angles from radians to degrees.\n",
        "rad2deg()\tConvert angles from radians to degrees.\n",
        "deg2rad\tConvert angles from degrees to radians.\n",
        "radians()\tConvert angles from degrees to radians.\n",
        "hypot()\tGiven the “legs” of a right triangle, return its hypotenuse.\n",
        "unwrap()\tUnwrap by changing deltas between values to 2*pi complement\n",
        "rint()\tRound to nearest integer towards zero.\n",
        "fix()\tRound to nearest integer towards zero.\n",
        "floor()\tReturn the floor of the input, element-wise.\n",
        "ceil()\tReturn the ceiling of the input, element-wise.\n",
        "trunc()\tReturn the truncated value of the input, element-wise.\n",
        "https://www.javatpoint.com/numpy-mathematical-functions"
      ]
    },
    {
      "cell_type": "code",
      "execution_count": null,
      "metadata": {
        "id": "a3nkVC9NqDVq"
      },
      "outputs": [],
      "source": []
    },
    {
      "cell_type": "markdown",
      "metadata": {
        "id": "aEaS-iUzpPLw"
      },
      "source": [
        "**Numpy | String Operations**\n",
        "numpy.lower() : This function returns the lowercase string from the given string. It converts all uppercase characters to lowercase. If no uppercase characters exist, it returns the original string."
      ]
    },
    {
      "cell_type": "code",
      "execution_count": null,
      "metadata": {
        "id": "HaYt01BvomRq"
      },
      "outputs": [],
      "source": [
        "# Python program explaining\n",
        "# numpy.lower() function\n",
        "\n",
        "import numpy as np\n",
        "\n",
        "# converting to lowercase\n",
        "print(np.char.lower(['SAURABH', 'FOR']))\n",
        "\n",
        "# converting to lowercase\n",
        "print(np.char.lower('SAURABH'))\n"
      ]
    },
    {
      "cell_type": "code",
      "execution_count": null,
      "metadata": {
        "colab": {
          "base_uri": "https://localhost:8080/"
        },
        "id": "g0U-BtT1pp3O",
        "outputId": "1da92cdc-7ea8-4fa9-86b2-ff8cf2011393"
      },
      "outputs": [
        {
          "name": "stdout",
          "output_type": "stream",
          "text": [
            "['Hero', 'for', 'India']\n",
            "['Hero', ' for', ' India']\n"
          ]
        }
      ],
      "source": [
        " # numpy.split() function\n",
        "\n",
        "import numpy as np\n",
        "\n",
        "# splitting a string\n",
        "print(np.char.split('Hero for India'))\n",
        "\n",
        "# splitting a string\n",
        "print(np.char.split('Hero, for, India', sep = ','))"
      ]
    },
    {
      "cell_type": "code",
      "execution_count": null,
      "metadata": {
        "colab": {
          "base_uri": "https://localhost:8080/"
        },
        "id": "cr6Cz3LlqEnT",
        "outputId": "0564a6ab-f981-4452-84be-e7a210fcdad3"
      },
      "outputs": [
        {
          "name": "stdout",
          "output_type": "stream",
          "text": [
            "S-a-c-h-i-n\n",
            "['S-a-c-h-i-n' 'f:o:r']\n"
          ]
        }
      ],
      "source": [
        "# numpy.join() function\n",
        "\n",
        "import numpy as np\n",
        "\n",
        "# splitting a string\n",
        "print(np.char.join('-', 'Sachin'))\n",
        "\n",
        "# splitting a string\n",
        "print(np.char.join(['-', ':'], ['Sachin', 'for']))"
      ]
    },
    {
      "cell_type": "markdown",
      "metadata": {
        "id": "2ULjx0QYqckm"
      },
      "source": [
        "https://www.javatpoint.com/numpy-string-functions"
      ]
    },
    {
      "cell_type": "code",
      "execution_count": null,
      "metadata": {
        "id": "9sYadUjtqsnZ"
      },
      "outputs": [],
      "source": []
    }
  ],
  "metadata": {
    "colab": {
      "provenance": []
    },
    "kernelspec": {
      "display_name": "Python 3",
      "name": "python3"
    },
    "language_info": {
      "codemirror_mode": {
        "name": "ipython",
        "version": 3
      },
      "file_extension": ".py",
      "mimetype": "text/x-python",
      "name": "python",
      "nbconvert_exporter": "python",
      "pygments_lexer": "ipython3",
      "version": "3.11.4"
    }
  },
  "nbformat": 4,
  "nbformat_minor": 0
}
